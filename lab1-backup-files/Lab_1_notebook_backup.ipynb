{
 "cells": [
  {
   "cell_type": "markdown",
   "metadata": {},
   "source": [
    "# Business Understanding"
   ]
  },
  {
   "cell_type": "markdown",
   "metadata": {},
   "source": [
    "## Describe the purpose of the data set you selected:\n",
    "\n",
    "&emsp; This data is the collection of two datasets, one which is from a resort hotel and the other which is from a city hotel. The datasets have 40,060 observations and 79,330 obeservations respectively with both sharing 31 variables. The observations time range from July 1st 2015 until August 31st 2017. The data was orginally collected from \"Hotel Booking Demand Datasets\", written by Nuno Antonio, Ana Almeida, and Luis Nune for Data in Brief, Volume 22, February 2019. The data was consolidated from bookings, change logs, meal, transaction, and customer profiles.\n",
    "<br>    \n",
    "![title](dataset_origin_image.jpg)\n",
    "<br>\n",
    "   \n",
    "&emsp; The primary purpose for the selection of this dataset is to research revenue management,such as the forecast of demand and prediction of problems such the likelihood of a hotel booking to be cancelled. Additionally this data could be used to generate models to see when is the ideal time to book a hotel room, or which days and for how long could you get the best rates. \n",
    "    \n",
    "    "
   ]
  },
  {
   "cell_type": "markdown",
   "metadata": {},
   "source": [
    "# Data Understanding\n",
    "\n",
    "## Describe the meaning and type of data:\n",
    "&emsp; The full description of the data can be found in https://www.sciencedirect.com/science/article/pii/S2352340918315191:\n",
    "\n",
    "\n",
    "| Variable | Type | Description | Source/Engineering |\n",
    "| --- | --- | --- | --- |\n",
    "| ADR | Numeric | Average Daily Rate as defined by | BO, BL and TR / Calculated by dividing the sum of all lodging transactions by the total number of staying nights |\n",
    "| Adults | Integer | Number of adults | BO and BL |\n",
    "| Agent | Categorical | ID of the travel agency that made the bookinga | BO and BL |\n",
    "| ArrivalDateDayOfMonth | Integer | Day of the month of the arrival date | BO and BL |\n",
    "| ArrivalDateMonth | Categorical | Month of arrival date with 12 categories: “January” to “December”| BO and BL |\n",
    "| ArrivalDateWeekNumber\t| Integer | Week number of the arrival date | BO and BL |\n",
    "| ArrivalDateYear | Integer | Year of arrival date | BO and BL |\n",
    "| AssignedRoomType | Categorical | Code for the type of room assigned to the booking. Sometimes the assigned room type differs from the reserved room type due to hotel operation reasons (e.g. overbooking) or by customer request. Code is presented instead of designation for anonymity reasons | BO and BL |\n",
    "| Babies | Integer | Number of babies | BO and BL |\n",
    "| BookingChanges | Integer | Number of changes/amendments made to the booking from the moment the booking was entered on the PMS until the moment of check-in or cancellation | BO and BL/Calculated by adding the number of unique iterations that change some of the booking attributes, namely: persons, arrival date, nights, reserved room type or meal |\n",
    "| Children | Integer | Number of children | BO and BL/Sum of both payable and non-payable children |\n",
    "| Company | Categorical | ID of the company/entity that made the booking or responsible for paying the booking. ID is presented instead of designation for anonymity reasons\tBO and BL. |\n",
    "| Country | Categorical | Country of origin. Categories are represented in the ISO 3155–3:2013 format [6] | BO, BL and NT |\n",
    "| CustomerType | Categorical | Type of booking, assuming one of four categories: <br> Contract - when the booking has an allotment or other type of contract associated to it; <br> Group – when the booking is associated to a group; <br> Transient – when the booking is not part of a group or contract, and is not associated to other transient booking; <br> Transient-party – when the booking is transient, but is associated to at least other transient booking <br> | BO and BL |\n",
    "| DaysInWaitingList | Integer | Number of days the booking was in the waiting list before it was confirmed to the customer | BO/Calculated by subtracting the date the booking was confirmed to the customer from the date the booking entered on the PMS |\n",
    "| DepositType | Categorical | Indication on if the customer made a deposit to guarantee the booking. This variable can assume three categories: <br> No Deposit – no deposit was made; <br> Non Refund – a deposit was made in the value of the total stay cost; <br> Refundable – a deposit was made with a value under the total cost of stay. | BO and TR/Value calculated based on the payments identified for the booking in the transaction (TR) table before the booking׳s arrival or cancellation date. |\n",
    "| DistributionChannel | Categorical | Booking distribution channel. The term “TA” means “Travel Agents” and “TO” means “Tour Operators” | BO, BL and DC |\n",
    "| IsCanceled | Categorical | Value indicating if the booking was canceled (1) or not (0) | BO |\n",
    "| IsRepeatedGuest | Categorical | Value indicating if the booking name was from a repeated guest (1) or not (0) | BO, BL and C/ Variable created by verifying if a profile was associated with the booking customer. If so, and if the customer profile creation date was prior to the creation date for the booking on the PMS database it was assumed the booking was from a repeated guest |\n",
    "| LeadTime | Integer | Number of days that elapsed between the entering date of the booking into the PMS and the arrival date | BO and BL/ Subtraction of the entering date from the arrival date |\n",
    "| MarketSegment | Categorical | Market segment designation. In categories, the term “TA” means “Travel Agents” and “TO” means “Tour Operators” | BO, BL and MS |\n",
    "| Meal | Categorical | Type of meal booked. | Categories are presented in standard hospitality meal packages: <br> Undefined/SC – no meal package; <br> BB – Bed & Breakfast; <br> HB – Half board (breakfast and one other meal – usually dinner); <br> FB – Full board (breakfast, lunch and dinner) | BO, BL and ML |\n",
    "| PreviousBookingsNotCanceled | Integer | Number of previous bookings not cancelled by the customer prior to the current booking | BO and BL / In case there was no customer profile associated with the booking, the value is set to 0. Otherwise, the value is the number of bookings with the same customer profile created before the current booking and not canceled. |\n",
    "| PreviousCancellations | Integer | Number of previous bookings that were cancelled by the customer prior to the current booking | BO and BL/ In case there was no customer profile associated with the booking, the value is set to 0. Otherwise, the value is the number of bookings with the same customer profile created before the current booking and canceled. |\n",
    "| RequiredCardParkingSpaces | Integer | Number of car parking spaces required by the customer | BO and BL |\n",
    "| ReservationStatus | Categorical | Reservation last status, assuming one of three categories: <br> Canceled – booking was canceled by the customer; <br> Check-Out – customer has checked in but already departed; <br> No-Show – customer did not check-in and did inform the hotel of the reason why | BO |\n",
    "| ReservationStatusDate | Date | Date at which the last status was set. This variable can be used in conjunction with the ReservationStatus to understand when was the booking canceled or when did the customer checked-out of the hotel | BO |\n",
    "| ReservedRoomType | Categorical | Code of room type reserved. Code is presented instead of designation for anonymity reasons | BO and BL |\n",
    "| StaysInWeekendNights | Integer | Number of weekend nights (Saturday or Sunday) the guest stayed or booked to stay at the hotel | BO and BL/ Calculated by counting the number of weekend nights from the total number of nights |\n",
    "| StaysInWeekNights | Integer | Number of week nights (Monday to Friday) the guest stayed or booked to stay at the hotel | BO and BL/Calculated by counting the number of week nights from the total number of nights |\n",
    "| TotalOfSpecialRequests | Integer | Number of special requests made by the customer (e.g. twin bed or high floor) | BO and BL/Sum of all special requests |\n",
    "<br>"
   ]
  },
  {
   "cell_type": "markdown",
   "metadata": {},
   "source": [
    "\n",
    "## Verify Data Quality\n",
    "\n",
    "&emsp; Upon initial inspection of the 31 attributes 4 appear to have some missing data. However 3 additional attributes also appear to have missing data but instead of appearing as 'nan' they are labeled as 'Undefined'. Below is a list of all the attributes with missing values and the counts:\n",
    "\n",
    "<ul>\n",
    "<li>agent- 16340 </li>\n",
    "<li>company- 112593</li>\n",
    "<li>children- 4</li>\n",
    "<li>country- 488</li>\n",
    "<li>market_segment - 2</li> \n",
    "<li>meal - 1169</li>\n",
    "<li>distribution_channel - 5 </li>\n",
    "</ul>\n",
    "\n",
    "\n",
    "&emsp; There's an association between the distribution channel type and the agent and company attributes. If the distribution channel is from a Traveling Agent or Tour Operator, then the agency company is supplied in the agent column. Similarly if the distribution channel is Corporate, then the company associated with the booking is populated under the company attribute. If the distribution is neither Corporate, TA or TO than both the agent and company attributes will be null. To simplify our data exploration we have decided to remove the agent and company attributes as they don't provide any additional information beyond what already is provided in the distribution channel. For the meal attribute during our data investigation we have found out that 'Undefined' and 'SC' are synonymous so we have decided to replace 'Undefined' with 'SC'. For the remainder they appear to have been ommitted accidentally and we have to decided to populate the missing values with the mode. \n",
    "\n",
    "\n",
    "Additionally, the following attributes were classified as objects, however they're categorical in nature so we have decided to encode each of these attributes with a corresponding number according to their alphabetical order:\n",
    "\n",
    "<ul>\n",
    "<li>hotel - ['City Hotel', 'Resort Hotel']</li>\n",
    "<li>market_segment - ['Aviation', 'Complementary', 'Corporate', 'Direct', 'Groups',\n",
    "       'Offline TA/TO', 'Online TA']</li>\n",
    "<li>meal - ['BB', 'FB', 'HB', 'SC']</li>\n",
    "<li>reservation_status - ['Canceled', 'Check-Out', 'No-Show']</li>\n",
    "<li>distribution_channel - ['Corporate', 'Direct', 'GDS', 'TA/TO']</li>\n",
    "<li>reserved_room_type - ['A', 'B', 'C', 'D', 'E', 'F', 'G', 'H', 'L', 'P']</li>\n",
    "<li>assigned_room_type - ['A', 'B', 'C', 'D', 'E', 'F', 'G', 'H', 'I', 'K', 'L', 'P']</li>\n",
    "<li>deposit_type - ['No Deposit', 'Non Refund', 'Refundable']</li>\n",
    "<li>country - [['ABW','AGO','AIA','ALB','AND', 'ARE', 'ARG', 'ARM',\n",
    " 'ASM', 'ATA', 'ATF', 'AUS', 'AUT', 'AZE', 'BDI', 'BEL', 'BEN', 'BFA',\n",
    " 'BGD', 'BGR', 'BHR', 'BHS', 'BIH', 'BLR', 'BOL', 'BRA', 'BRB', 'BWA',\n",
    " 'CAF', 'CHE', 'CHL', 'CHN', 'CIV', 'CMR', 'CN', 'COL', 'COM', 'CPV',\n",
    " 'CRI', 'CUB', 'CYM', 'CYP', 'CZE', 'DEU', 'DJI', 'DMA', 'DNK', 'DOM',\n",
    " 'DZA', 'ECU', 'EGY', 'ESP', 'EST', 'ETH', 'FIN', 'FJI', 'FRA', 'FRO',\n",
    " 'GAB', 'GBR', 'GEO', 'GGY', 'GHA', 'GIB', 'GLP', 'GNB', 'GRC', 'GTM', 'GUY',\n",
    " 'HKG', 'HND', 'HRV', 'HUN', 'IDN', 'IMN', 'IND', 'IRL', 'IRN', 'IRQ', 'ISL',\n",
    " 'ISR', 'ITA', 'JAM', 'JEY', 'JOR', 'JPN', 'KAZ', 'KEN', 'KHM', 'KIR',\n",
    " 'KNA', 'KOR', 'KWT', 'LAO', 'LBN', 'LBY', 'LCA', 'LIE', 'LKA', 'LTU', 'LUX',\n",
    " 'LVA', 'MAC', 'MAR', 'MCO' 'MDG', 'MDV', 'MEX', 'MKD', 'MLI', 'MLT', 'MMR',\n",
    " 'MNE', 'MOZ', 'MRT', 'MUS', 'MWI', 'MYS', 'MYT', 'NAM', 'NCL', 'NGA', 'NIC',\n",
    " 'NLD', 'NOR', 'NPL', 'NZL', 'OMN', 'PAK', 'PAN', 'PER', 'PHL', 'PLW', 'POL',\n",
    " 'PRI', 'PRT', 'PRY', 'PYF', 'QAT', 'ROU', 'RUS', 'RWA', 'SAU', 'SDN', 'SEN',\n",
    " 'SGP', 'SLE', 'SLV', 'SMR', 'SRB', 'STP', 'SUR', 'SVK', 'SVN', 'SWE', 'SYC',\n",
    " 'SYR', 'TGO', 'THA', 'TJK', 'TMP', 'TUN', 'TUR', 'TWN', 'TZA', 'UGA', 'UKR', 'UMI',\n",
    " 'URY', 'USA', 'UZB', 'VEN', 'VGB', 'VNM', 'ZAF', 'ZMB', 'ZWE']]</li>\n",
    "<li>customer_type - ['Contract', 'Group', 'Transient', 'Transient-Party']</li>\n",
    "</ul>    \n",
    "\n",
    "\n",
    "Lastly, for the arrival_date_month we decided to encode according to their correspoding month number in the gregorian calendar and construct two new columns that correspond to the generated timestamp from the concatenated arrival date and the reservation_status_date to help out with regression later on.\n",
    "\n",
    "\n",
    "\n"
   ]
  },
  {
   "cell_type": "code",
   "execution_count": 3,
   "metadata": {
    "scrolled": false
   },
   "outputs": [
    {
     "data": {
      "text/html": [
       "<div>\n",
       "<style scoped>\n",
       "    .dataframe tbody tr th:only-of-type {\n",
       "        vertical-align: middle;\n",
       "    }\n",
       "\n",
       "    .dataframe tbody tr th {\n",
       "        vertical-align: top;\n",
       "    }\n",
       "\n",
       "    .dataframe thead th {\n",
       "        text-align: right;\n",
       "    }\n",
       "</style>\n",
       "<table border=\"1\" class=\"dataframe\">\n",
       "  <thead>\n",
       "    <tr style=\"text-align: right;\">\n",
       "      <th></th>\n",
       "      <th>hotel</th>\n",
       "      <th>is_canceled</th>\n",
       "      <th>lead_time</th>\n",
       "      <th>arrival_date_year</th>\n",
       "      <th>arrival_date_month</th>\n",
       "      <th>arrival_date_week_number</th>\n",
       "      <th>arrival_date_day_of_month</th>\n",
       "      <th>stays_in_weekend_nights</th>\n",
       "      <th>stays_in_week_nights</th>\n",
       "      <th>adults</th>\n",
       "      <th>...</th>\n",
       "      <th>deposit_type</th>\n",
       "      <th>agent</th>\n",
       "      <th>company</th>\n",
       "      <th>days_in_waiting_list</th>\n",
       "      <th>customer_type</th>\n",
       "      <th>adr</th>\n",
       "      <th>required_car_parking_spaces</th>\n",
       "      <th>total_of_special_requests</th>\n",
       "      <th>reservation_status</th>\n",
       "      <th>reservation_status_date</th>\n",
       "    </tr>\n",
       "  </thead>\n",
       "  <tbody>\n",
       "    <tr>\n",
       "      <th>0</th>\n",
       "      <td>Resort Hotel</td>\n",
       "      <td>0</td>\n",
       "      <td>342</td>\n",
       "      <td>2015</td>\n",
       "      <td>July</td>\n",
       "      <td>27</td>\n",
       "      <td>1</td>\n",
       "      <td>0</td>\n",
       "      <td>0</td>\n",
       "      <td>2</td>\n",
       "      <td>...</td>\n",
       "      <td>No Deposit</td>\n",
       "      <td>NaN</td>\n",
       "      <td>NaN</td>\n",
       "      <td>0</td>\n",
       "      <td>Transient</td>\n",
       "      <td>0.0</td>\n",
       "      <td>0</td>\n",
       "      <td>0</td>\n",
       "      <td>Check-Out</td>\n",
       "      <td>2015-07-01</td>\n",
       "    </tr>\n",
       "    <tr>\n",
       "      <th>1</th>\n",
       "      <td>Resort Hotel</td>\n",
       "      <td>0</td>\n",
       "      <td>737</td>\n",
       "      <td>2015</td>\n",
       "      <td>July</td>\n",
       "      <td>27</td>\n",
       "      <td>1</td>\n",
       "      <td>0</td>\n",
       "      <td>0</td>\n",
       "      <td>2</td>\n",
       "      <td>...</td>\n",
       "      <td>No Deposit</td>\n",
       "      <td>NaN</td>\n",
       "      <td>NaN</td>\n",
       "      <td>0</td>\n",
       "      <td>Transient</td>\n",
       "      <td>0.0</td>\n",
       "      <td>0</td>\n",
       "      <td>0</td>\n",
       "      <td>Check-Out</td>\n",
       "      <td>2015-07-01</td>\n",
       "    </tr>\n",
       "    <tr>\n",
       "      <th>2</th>\n",
       "      <td>Resort Hotel</td>\n",
       "      <td>0</td>\n",
       "      <td>7</td>\n",
       "      <td>2015</td>\n",
       "      <td>July</td>\n",
       "      <td>27</td>\n",
       "      <td>1</td>\n",
       "      <td>0</td>\n",
       "      <td>1</td>\n",
       "      <td>1</td>\n",
       "      <td>...</td>\n",
       "      <td>No Deposit</td>\n",
       "      <td>NaN</td>\n",
       "      <td>NaN</td>\n",
       "      <td>0</td>\n",
       "      <td>Transient</td>\n",
       "      <td>75.0</td>\n",
       "      <td>0</td>\n",
       "      <td>0</td>\n",
       "      <td>Check-Out</td>\n",
       "      <td>2015-07-02</td>\n",
       "    </tr>\n",
       "    <tr>\n",
       "      <th>3</th>\n",
       "      <td>Resort Hotel</td>\n",
       "      <td>0</td>\n",
       "      <td>13</td>\n",
       "      <td>2015</td>\n",
       "      <td>July</td>\n",
       "      <td>27</td>\n",
       "      <td>1</td>\n",
       "      <td>0</td>\n",
       "      <td>1</td>\n",
       "      <td>1</td>\n",
       "      <td>...</td>\n",
       "      <td>No Deposit</td>\n",
       "      <td>304.0</td>\n",
       "      <td>NaN</td>\n",
       "      <td>0</td>\n",
       "      <td>Transient</td>\n",
       "      <td>75.0</td>\n",
       "      <td>0</td>\n",
       "      <td>0</td>\n",
       "      <td>Check-Out</td>\n",
       "      <td>2015-07-02</td>\n",
       "    </tr>\n",
       "    <tr>\n",
       "      <th>4</th>\n",
       "      <td>Resort Hotel</td>\n",
       "      <td>0</td>\n",
       "      <td>14</td>\n",
       "      <td>2015</td>\n",
       "      <td>July</td>\n",
       "      <td>27</td>\n",
       "      <td>1</td>\n",
       "      <td>0</td>\n",
       "      <td>2</td>\n",
       "      <td>2</td>\n",
       "      <td>...</td>\n",
       "      <td>No Deposit</td>\n",
       "      <td>240.0</td>\n",
       "      <td>NaN</td>\n",
       "      <td>0</td>\n",
       "      <td>Transient</td>\n",
       "      <td>98.0</td>\n",
       "      <td>0</td>\n",
       "      <td>1</td>\n",
       "      <td>Check-Out</td>\n",
       "      <td>2015-07-03</td>\n",
       "    </tr>\n",
       "  </tbody>\n",
       "</table>\n",
       "<p>5 rows × 32 columns</p>\n",
       "</div>"
      ],
      "text/plain": [
       "          hotel  is_canceled  lead_time  arrival_date_year arrival_date_month  \\\n",
       "0  Resort Hotel            0        342               2015               July   \n",
       "1  Resort Hotel            0        737               2015               July   \n",
       "2  Resort Hotel            0          7               2015               July   \n",
       "3  Resort Hotel            0         13               2015               July   \n",
       "4  Resort Hotel            0         14               2015               July   \n",
       "\n",
       "   arrival_date_week_number  arrival_date_day_of_month  \\\n",
       "0                        27                          1   \n",
       "1                        27                          1   \n",
       "2                        27                          1   \n",
       "3                        27                          1   \n",
       "4                        27                          1   \n",
       "\n",
       "   stays_in_weekend_nights  stays_in_week_nights  adults  ...  deposit_type  \\\n",
       "0                        0                     0       2  ...    No Deposit   \n",
       "1                        0                     0       2  ...    No Deposit   \n",
       "2                        0                     1       1  ...    No Deposit   \n",
       "3                        0                     1       1  ...    No Deposit   \n",
       "4                        0                     2       2  ...    No Deposit   \n",
       "\n",
       "   agent company days_in_waiting_list customer_type   adr  \\\n",
       "0    NaN     NaN                    0     Transient   0.0   \n",
       "1    NaN     NaN                    0     Transient   0.0   \n",
       "2    NaN     NaN                    0     Transient  75.0   \n",
       "3  304.0     NaN                    0     Transient  75.0   \n",
       "4  240.0     NaN                    0     Transient  98.0   \n",
       "\n",
       "   required_car_parking_spaces  total_of_special_requests  reservation_status  \\\n",
       "0                            0                          0           Check-Out   \n",
       "1                            0                          0           Check-Out   \n",
       "2                            0                          0           Check-Out   \n",
       "3                            0                          0           Check-Out   \n",
       "4                            0                          1           Check-Out   \n",
       "\n",
       "  reservation_status_date  \n",
       "0              2015-07-01  \n",
       "1              2015-07-01  \n",
       "2              2015-07-02  \n",
       "3              2015-07-02  \n",
       "4              2015-07-03  \n",
       "\n",
       "[5 rows x 32 columns]"
      ]
     },
     "execution_count": 3,
     "metadata": {},
     "output_type": "execute_result"
    }
   ],
   "source": [
    "import pandas as pd\n",
    "import numpy as np\n",
    "\n",
    "hotel_bookings = pd.read_csv('hotel_bookings.csv') # read in the csv file\n",
    "\n",
    "hotel_bookings.head()"
   ]
  },
  {
   "cell_type": "code",
   "execution_count": 144,
   "metadata": {},
   "outputs": [
    {
     "data": {
      "text/plain": [
       "hotel                                  0\n",
       "is_canceled                            0\n",
       "lead_time                              0\n",
       "arrival_date_year                      0\n",
       "arrival_date_month                     0\n",
       "arrival_date_week_number               0\n",
       "arrival_date_day_of_month              0\n",
       "stays_in_weekend_nights                0\n",
       "stays_in_week_nights                   0\n",
       "adults                                 0\n",
       "children                               4\n",
       "babies                                 0\n",
       "meal                                   0\n",
       "country                              488\n",
       "market_segment                         0\n",
       "distribution_channel                   0\n",
       "is_repeated_guest                      0\n",
       "previous_cancellations                 0\n",
       "previous_bookings_not_canceled         0\n",
       "reserved_room_type                     0\n",
       "assigned_room_type                     0\n",
       "booking_changes                        0\n",
       "deposit_type                           0\n",
       "agent                              16340\n",
       "company                           112593\n",
       "days_in_waiting_list                   0\n",
       "customer_type                          0\n",
       "adr                                    0\n",
       "required_car_parking_spaces            0\n",
       "total_of_special_requests              0\n",
       "reservation_status                     0\n",
       "reservation_status_date                0\n",
       "dtype: int64"
      ]
     },
     "execution_count": 144,
     "metadata": {},
     "output_type": "execute_result"
    }
   ],
   "source": [
    "hotel_bookings.isnull().sum()"
   ]
  },
  {
   "cell_type": "code",
   "execution_count": 126,
   "metadata": {},
   "outputs": [
    {
     "data": {
      "text/plain": [
       "array(['Resort Hotel', 'City Hotel'], dtype=object)"
      ]
     },
     "execution_count": 126,
     "metadata": {},
     "output_type": "execute_result"
    }
   ],
   "source": [
    "hotel_bookings.hotel.unique()"
   ]
  },
  {
   "cell_type": "code",
   "execution_count": 127,
   "metadata": {},
   "outputs": [
    {
     "data": {
      "text/plain": [
       "array(['Direct', 'Corporate', 'Online TA', 'Offline TA/TO',\n",
       "       'Complementary', 'Groups', 'Undefined', 'Aviation'], dtype=object)"
      ]
     },
     "execution_count": 127,
     "metadata": {},
     "output_type": "execute_result"
    }
   ],
   "source": [
    "hotel_bookings.market_segment.unique()"
   ]
  },
  {
   "cell_type": "code",
   "execution_count": 128,
   "metadata": {},
   "outputs": [
    {
     "data": {
      "text/plain": [
       "array(['BB', 'FB', 'HB', 'SC', 'Undefined'], dtype=object)"
      ]
     },
     "execution_count": 128,
     "metadata": {},
     "output_type": "execute_result"
    }
   ],
   "source": [
    "hotel_bookings.meal.unique()"
   ]
  },
  {
   "cell_type": "code",
   "execution_count": 129,
   "metadata": {},
   "outputs": [
    {
     "data": {
      "text/plain": [
       "array(['Check-Out', 'Canceled', 'No-Show'], dtype=object)"
      ]
     },
     "execution_count": 129,
     "metadata": {},
     "output_type": "execute_result"
    }
   ],
   "source": [
    "hotel_bookings.reservation_status.unique()"
   ]
  },
  {
   "cell_type": "code",
   "execution_count": 131,
   "metadata": {},
   "outputs": [
    {
     "data": {
      "text/plain": [
       "array(['Direct', 'Corporate', 'TA/TO', 'Undefined', 'GDS'], dtype=object)"
      ]
     },
     "execution_count": 131,
     "metadata": {},
     "output_type": "execute_result"
    }
   ],
   "source": [
    "hotel_bookings.distribution_channel.unique()"
   ]
  },
  {
   "cell_type": "code",
   "execution_count": 132,
   "metadata": {},
   "outputs": [
    {
     "data": {
      "text/plain": [
       "array(['C', 'A', 'D', 'E', 'G', 'F', 'H', 'L', 'P', 'B'], dtype=object)"
      ]
     },
     "execution_count": 132,
     "metadata": {},
     "output_type": "execute_result"
    }
   ],
   "source": [
    "hotel_bookings.reserved_room_type.unique()"
   ]
  },
  {
   "cell_type": "code",
   "execution_count": 133,
   "metadata": {},
   "outputs": [
    {
     "data": {
      "text/plain": [
       "array(['C', 'A', 'D', 'E', 'G', 'F', 'I', 'B', 'H', 'P', 'L', 'K'],\n",
       "      dtype=object)"
      ]
     },
     "execution_count": 133,
     "metadata": {},
     "output_type": "execute_result"
    }
   ],
   "source": [
    "hotel_bookings.assigned_room_type.unique()"
   ]
  },
  {
   "cell_type": "code",
   "execution_count": 134,
   "metadata": {},
   "outputs": [
    {
     "data": {
      "text/plain": [
       "array(['No Deposit', 'Refundable', 'Non Refund'], dtype=object)"
      ]
     },
     "execution_count": 134,
     "metadata": {},
     "output_type": "execute_result"
    }
   ],
   "source": [
    "hotel_bookings.deposit_type.unique()"
   ]
  },
  {
   "cell_type": "code",
   "execution_count": 159,
   "metadata": {},
   "outputs": [
    {
     "data": {
      "text/plain": [
       "array(['PRT', 'GBR', 'USA', 'ESP', 'IRL', 'FRA', 'ROU', 'NOR', 'OMN',\n",
       "       'ARG', 'POL', 'DEU', 'BEL', 'CHE', 'CN', 'GRC', 'ITA', 'NLD',\n",
       "       'DNK', 'RUS', 'SWE', 'AUS', 'EST', 'CZE', 'BRA', 'FIN', 'MOZ',\n",
       "       'BWA', 'LUX', 'SVN', 'ALB', 'IND', 'CHN', 'MEX', 'MAR', 'UKR',\n",
       "       'SMR', 'LVA', 'PRI', 'SRB', 'CHL', 'AUT', 'BLR', 'LTU', 'TUR',\n",
       "       'ZAF', 'AGO', 'ISR', 'CYM', 'ZMB', 'CPV', 'ZWE', 'DZA', 'KOR',\n",
       "       'CRI', 'HUN', 'ARE', 'TUN', 'JAM', 'HRV', 'HKG', 'IRN', 'GEO',\n",
       "       'AND', 'GIB', 'URY', 'JEY', 'CAF', 'CYP', 'COL', 'GGY', 'KWT',\n",
       "       'NGA', 'MDV', 'VEN', 'SVK', 'FJI', 'KAZ', 'PAK', 'IDN', 'LBN',\n",
       "       'PHL', 'SEN', 'SYC', 'AZE', 'BHR', 'NZL', 'THA', 'DOM', 'MKD',\n",
       "       'MYS', 'ARM', 'JPN', 'LKA', 'CUB', 'CMR', 'BIH', 'MUS', 'COM',\n",
       "       'SUR', 'UGA', 'BGR', 'CIV', 'JOR', 'SYR', 'SGP', 'BDI', 'SAU',\n",
       "       'VNM', 'PLW', 'QAT', 'EGY', 'PER', 'MLT', 'MWI', 'ECU', 'MDG',\n",
       "       'ISL', 'UZB', 'NPL', 'BHS', 'MAC', 'TGO', 'TWN', 'DJI', 'STP',\n",
       "       'KNA', 'ETH', 'IRQ', 'HND', 'RWA', 'KHM', 'MCO', 'BGD', 'IMN',\n",
       "       'TJK', 'NIC', 'BEN', 'VGB', 'TZA', 'GAB', 'GHA', 'TMP', 'GLP',\n",
       "       'KEN', 'LIE', 'GNB', 'MNE', 'UMI', 'MYT', 'FRO', 'MMR', 'PAN',\n",
       "       'BFA', 'LBY', 'MLI', 'NAM', 'BOL', 'PRY', 'BRB', 'ABW', 'AIA',\n",
       "       'SLV', 'DMA', 'PYF', 'GUY', 'LCA', 'ATA', 'GTM', 'ASM', 'MRT',\n",
       "       'NCL', 'KIR', 'SDN', 'ATF', 'SLE', 'LAO'], dtype=object)"
      ]
     },
     "execution_count": 159,
     "metadata": {},
     "output_type": "execute_result"
    }
   ],
   "source": [
    "hotel_bookings.country.unique()"
   ]
  },
  {
   "cell_type": "code",
   "execution_count": 136,
   "metadata": {},
   "outputs": [
    {
     "data": {
      "text/plain": [
       "array(['Transient', 'Contract', 'Transient-Party', 'Group'], dtype=object)"
      ]
     },
     "execution_count": 136,
     "metadata": {},
     "output_type": "execute_result"
    }
   ],
   "source": [
    "hotel_bookings.customer_type.unique()"
   ]
  },
  {
   "cell_type": "code",
   "execution_count": 168,
   "metadata": {},
   "outputs": [
    {
     "data": {
      "text/plain": [
       "2"
      ]
     },
     "execution_count": 168,
     "metadata": {},
     "output_type": "execute_result"
    }
   ],
   "source": [
    "hotel_bookings.loc[hotel_bookings['market_segment'] == 'Undefined']['market_segment'].count()"
   ]
  },
  {
   "cell_type": "code",
   "execution_count": 169,
   "metadata": {},
   "outputs": [
    {
     "data": {
      "text/plain": [
       "1169"
      ]
     },
     "execution_count": 169,
     "metadata": {},
     "output_type": "execute_result"
    }
   ],
   "source": [
    "hotel_bookings.loc[hotel_bookings['meal'] == 'Undefined']['meal'].count()"
   ]
  },
  {
   "cell_type": "code",
   "execution_count": 170,
   "metadata": {},
   "outputs": [
    {
     "data": {
      "text/plain": [
       "5"
      ]
     },
     "execution_count": 170,
     "metadata": {},
     "output_type": "execute_result"
    }
   ],
   "source": [
    "hotel_bookings.loc[hotel_bookings['distribution_channel'] == 'Undefined']['distribution_channel'].count()\n"
   ]
  },
  {
   "cell_type": "code",
   "execution_count": 171,
   "metadata": {},
   "outputs": [
    {
     "data": {
      "text/html": [
       "<div>\n",
       "<style scoped>\n",
       "    .dataframe tbody tr th:only-of-type {\n",
       "        vertical-align: middle;\n",
       "    }\n",
       "\n",
       "    .dataframe tbody tr th {\n",
       "        vertical-align: top;\n",
       "    }\n",
       "\n",
       "    .dataframe thead th {\n",
       "        text-align: right;\n",
       "    }\n",
       "</style>\n",
       "<table border=\"1\" class=\"dataframe\">\n",
       "  <thead>\n",
       "    <tr style=\"text-align: right;\">\n",
       "      <th></th>\n",
       "      <th>children</th>\n",
       "      <th>country</th>\n",
       "      <th>market_segment</th>\n",
       "      <th>meal</th>\n",
       "      <th>distribution_channel</th>\n",
       "    </tr>\n",
       "  </thead>\n",
       "  <tbody>\n",
       "    <tr>\n",
       "      <th>0</th>\n",
       "      <td>0.0</td>\n",
       "      <td>PRT</td>\n",
       "      <td>Online TA</td>\n",
       "      <td>BB</td>\n",
       "      <td>TA/TO</td>\n",
       "    </tr>\n",
       "  </tbody>\n",
       "</table>\n",
       "</div>"
      ],
      "text/plain": [
       "   children country market_segment meal distribution_channel\n",
       "0       0.0     PRT      Online TA   BB                TA/TO"
      ]
     },
     "execution_count": 171,
     "metadata": {},
     "output_type": "execute_result"
    }
   ],
   "source": [
    "hotel_bookings[['children','country','market_segment','meal','distribution_channel']].mode() "
   ]
  },
  {
   "cell_type": "code",
   "execution_count": 4,
   "metadata": {},
   "outputs": [],
   "source": [
    "import math\n",
    "import numpy as np\n",
    "hotel_bookings_transform = hotel_bookings\n",
    "hotel_bookings_transform['children']= hotel_bookings_transform['children'].apply(lambda x: 0 if  math.isnan(x)  else x)\n",
    "hotel_bookings_transform['country']= hotel_bookings_transform['country'].apply(lambda x: 'PRT' if  pd.isna(x)  else x)\n",
    "hotel_bookings_transform['market_segment']= hotel_bookings_transform['market_segment'].apply(lambda x: 'Online TA' if  x == 'Undefined'  else x)\n",
    "hotel_bookings_transform['meal']= hotel_bookings_transform['meal'].apply(lambda x: 'SC' if  x == 'Undefined'  else x)\n",
    "hotel_bookings_transform['distribution_channel']= hotel_bookings_transform['distribution_channel'].apply(lambda x: 'TA/TO' if  x == 'Undefined'  else x)\n"
   ]
  },
  {
   "cell_type": "code",
   "execution_count": 37,
   "metadata": {},
   "outputs": [
    {
     "data": {
      "text/plain": [
       "Index(['ABW', 'AGO', 'AIA', 'ALB', 'AND', 'ARE', 'ARG', 'ARM', 'ASM', 'ATA',\n",
       "       ...\n",
       "       'UMI', 'URY', 'USA', 'UZB', 'VEN', 'VGB', 'VNM', 'ZAF', 'ZMB', 'ZWE'],\n",
       "      dtype='object', length=177)"
      ]
     },
     "execution_count": 37,
     "metadata": {},
     "output_type": "execute_result"
    }
   ],
   "source": [
    "hotel_bookings['country'].astype('category').cat.categories"
   ]
  },
  {
   "cell_type": "code",
   "execution_count": 184,
   "metadata": {},
   "outputs": [
    {
     "data": {
      "text/plain": [
       "Index(['City Hotel', 'Resort Hotel'], dtype='object')"
      ]
     },
     "execution_count": 184,
     "metadata": {},
     "output_type": "execute_result"
    }
   ],
   "source": [
    "hotel_bookings['hotel'].astype('category').cat.categories"
   ]
  },
  {
   "cell_type": "code",
   "execution_count": 185,
   "metadata": {},
   "outputs": [
    {
     "data": {
      "text/plain": [
       "Index(['Aviation', 'Complementary', 'Corporate', 'Direct', 'Groups',\n",
       "       'Offline TA/TO', 'Online TA'],\n",
       "      dtype='object')"
      ]
     },
     "execution_count": 185,
     "metadata": {},
     "output_type": "execute_result"
    }
   ],
   "source": [
    "hotel_bookings['market_segment'].astype('category').cat.categories"
   ]
  },
  {
   "cell_type": "code",
   "execution_count": 186,
   "metadata": {},
   "outputs": [
    {
     "data": {
      "text/plain": [
       "Index(['BB', 'FB', 'HB', 'SC'], dtype='object')"
      ]
     },
     "execution_count": 186,
     "metadata": {},
     "output_type": "execute_result"
    }
   ],
   "source": [
    "hotel_bookings['meal'].astype('category').cat.categories"
   ]
  },
  {
   "cell_type": "code",
   "execution_count": 187,
   "metadata": {},
   "outputs": [
    {
     "data": {
      "text/plain": [
       "Index(['Canceled', 'Check-Out', 'No-Show'], dtype='object')"
      ]
     },
     "execution_count": 187,
     "metadata": {},
     "output_type": "execute_result"
    }
   ],
   "source": [
    "hotel_bookings['reservation_status'].astype('category').cat.categories"
   ]
  },
  {
   "cell_type": "code",
   "execution_count": 188,
   "metadata": {},
   "outputs": [
    {
     "data": {
      "text/plain": [
       "Index(['Corporate', 'Direct', 'GDS', 'TA/TO'], dtype='object')"
      ]
     },
     "execution_count": 188,
     "metadata": {},
     "output_type": "execute_result"
    }
   ],
   "source": [
    "hotel_bookings['distribution_channel'].astype('category').cat.categories"
   ]
  },
  {
   "cell_type": "code",
   "execution_count": 189,
   "metadata": {},
   "outputs": [
    {
     "data": {
      "text/plain": [
       "Index(['A', 'B', 'C', 'D', 'E', 'F', 'G', 'H', 'L', 'P'], dtype='object')"
      ]
     },
     "execution_count": 189,
     "metadata": {},
     "output_type": "execute_result"
    }
   ],
   "source": [
    "hotel_bookings['reserved_room_type'].astype('category').cat.categories"
   ]
  },
  {
   "cell_type": "code",
   "execution_count": 190,
   "metadata": {},
   "outputs": [
    {
     "data": {
      "text/plain": [
       "Index(['A', 'B', 'C', 'D', 'E', 'F', 'G', 'H', 'I', 'K', 'L', 'P'], dtype='object')"
      ]
     },
     "execution_count": 190,
     "metadata": {},
     "output_type": "execute_result"
    }
   ],
   "source": [
    "hotel_bookings['assigned_room_type'].astype('category').cat.categories"
   ]
  },
  {
   "cell_type": "code",
   "execution_count": 191,
   "metadata": {},
   "outputs": [
    {
     "data": {
      "text/plain": [
       "Index(['No Deposit', 'Non Refund', 'Refundable'], dtype='object')"
      ]
     },
     "execution_count": 191,
     "metadata": {},
     "output_type": "execute_result"
    }
   ],
   "source": [
    "hotel_bookings['deposit_type'].astype('category').cat.categories"
   ]
  },
  {
   "cell_type": "code",
   "execution_count": 193,
   "metadata": {},
   "outputs": [
    {
     "data": {
      "text/plain": [
       "Index(['Contract', 'Group', 'Transient', 'Transient-Party'], dtype='object')"
      ]
     },
     "execution_count": 193,
     "metadata": {},
     "output_type": "execute_result"
    }
   ],
   "source": [
    "hotel_bookings['customer_type'].astype('category').cat.categories"
   ]
  },
  {
   "cell_type": "code",
   "execution_count": 5,
   "metadata": {},
   "outputs": [],
   "source": [
    "hotel_bookings_transform['hotel']=hotel_bookings_transform['hotel'].astype('category').cat.codes\n",
    "hotel_bookings_transform['market_segment']=hotel_bookings_transform['market_segment'].astype('category').cat.codes\n",
    "hotel_bookings_transform['meal']=hotel_bookings_transform['meal'].astype('category').cat.codes\n",
    "hotel_bookings_transform['reservation_status']=hotel_bookings_transform['reservation_status'].astype('category').cat.codes\n",
    "hotel_bookings_transform['distribution_channel']=hotel_bookings_transform['distribution_channel'].astype('category').cat.codes\n",
    "hotel_bookings_transform['reserved_room_type']=hotel_bookings_transform['reserved_room_type'].astype('category').cat.codes\n",
    "hotel_bookings_transform['assigned_room_type']=hotel_bookings_transform['assigned_room_type'].astype('category').cat.codes\n",
    "hotel_bookings_transform['deposit_type']=hotel_bookings_transform['deposit_type'].astype('category').cat.codes\n",
    "hotel_bookings_transform['customer_type']=hotel_bookings_transform['customer_type'].astype('category').cat.codes"
   ]
  },
  {
   "cell_type": "code",
   "execution_count": 6,
   "metadata": {},
   "outputs": [],
   "source": [
    "hotel_bookings_transform= hotel_bookings_transform.drop(columns=['agent','company'])"
   ]
  },
  {
   "cell_type": "code",
   "execution_count": 7,
   "metadata": {},
   "outputs": [
    {
     "data": {
      "text/html": [
       "<div>\n",
       "<style scoped>\n",
       "    .dataframe tbody tr th:only-of-type {\n",
       "        vertical-align: middle;\n",
       "    }\n",
       "\n",
       "    .dataframe tbody tr th {\n",
       "        vertical-align: top;\n",
       "    }\n",
       "\n",
       "    .dataframe thead th {\n",
       "        text-align: right;\n",
       "    }\n",
       "</style>\n",
       "<table border=\"1\" class=\"dataframe\">\n",
       "  <thead>\n",
       "    <tr style=\"text-align: right;\">\n",
       "      <th></th>\n",
       "      <th>hotel</th>\n",
       "      <th>is_canceled</th>\n",
       "      <th>lead_time</th>\n",
       "      <th>arrival_date_year</th>\n",
       "      <th>arrival_date_month</th>\n",
       "      <th>arrival_date_week_number</th>\n",
       "      <th>arrival_date_day_of_month</th>\n",
       "      <th>stays_in_weekend_nights</th>\n",
       "      <th>stays_in_week_nights</th>\n",
       "      <th>adults</th>\n",
       "      <th>...</th>\n",
       "      <th>assigned_room_type</th>\n",
       "      <th>booking_changes</th>\n",
       "      <th>deposit_type</th>\n",
       "      <th>days_in_waiting_list</th>\n",
       "      <th>customer_type</th>\n",
       "      <th>adr</th>\n",
       "      <th>required_car_parking_spaces</th>\n",
       "      <th>total_of_special_requests</th>\n",
       "      <th>reservation_status</th>\n",
       "      <th>reservation_status_date</th>\n",
       "    </tr>\n",
       "  </thead>\n",
       "  <tbody>\n",
       "    <tr>\n",
       "      <th>0</th>\n",
       "      <td>1</td>\n",
       "      <td>0</td>\n",
       "      <td>342</td>\n",
       "      <td>2015</td>\n",
       "      <td>July</td>\n",
       "      <td>27</td>\n",
       "      <td>1</td>\n",
       "      <td>0</td>\n",
       "      <td>0</td>\n",
       "      <td>2</td>\n",
       "      <td>...</td>\n",
       "      <td>2</td>\n",
       "      <td>3</td>\n",
       "      <td>0</td>\n",
       "      <td>0</td>\n",
       "      <td>2</td>\n",
       "      <td>0.00</td>\n",
       "      <td>0</td>\n",
       "      <td>0</td>\n",
       "      <td>1</td>\n",
       "      <td>2015-07-01</td>\n",
       "    </tr>\n",
       "    <tr>\n",
       "      <th>1</th>\n",
       "      <td>1</td>\n",
       "      <td>0</td>\n",
       "      <td>737</td>\n",
       "      <td>2015</td>\n",
       "      <td>July</td>\n",
       "      <td>27</td>\n",
       "      <td>1</td>\n",
       "      <td>0</td>\n",
       "      <td>0</td>\n",
       "      <td>2</td>\n",
       "      <td>...</td>\n",
       "      <td>2</td>\n",
       "      <td>4</td>\n",
       "      <td>0</td>\n",
       "      <td>0</td>\n",
       "      <td>2</td>\n",
       "      <td>0.00</td>\n",
       "      <td>0</td>\n",
       "      <td>0</td>\n",
       "      <td>1</td>\n",
       "      <td>2015-07-01</td>\n",
       "    </tr>\n",
       "    <tr>\n",
       "      <th>2</th>\n",
       "      <td>1</td>\n",
       "      <td>0</td>\n",
       "      <td>7</td>\n",
       "      <td>2015</td>\n",
       "      <td>July</td>\n",
       "      <td>27</td>\n",
       "      <td>1</td>\n",
       "      <td>0</td>\n",
       "      <td>1</td>\n",
       "      <td>1</td>\n",
       "      <td>...</td>\n",
       "      <td>2</td>\n",
       "      <td>0</td>\n",
       "      <td>0</td>\n",
       "      <td>0</td>\n",
       "      <td>2</td>\n",
       "      <td>75.00</td>\n",
       "      <td>0</td>\n",
       "      <td>0</td>\n",
       "      <td>1</td>\n",
       "      <td>2015-07-02</td>\n",
       "    </tr>\n",
       "    <tr>\n",
       "      <th>3</th>\n",
       "      <td>1</td>\n",
       "      <td>0</td>\n",
       "      <td>13</td>\n",
       "      <td>2015</td>\n",
       "      <td>July</td>\n",
       "      <td>27</td>\n",
       "      <td>1</td>\n",
       "      <td>0</td>\n",
       "      <td>1</td>\n",
       "      <td>1</td>\n",
       "      <td>...</td>\n",
       "      <td>0</td>\n",
       "      <td>0</td>\n",
       "      <td>0</td>\n",
       "      <td>0</td>\n",
       "      <td>2</td>\n",
       "      <td>75.00</td>\n",
       "      <td>0</td>\n",
       "      <td>0</td>\n",
       "      <td>1</td>\n",
       "      <td>2015-07-02</td>\n",
       "    </tr>\n",
       "    <tr>\n",
       "      <th>4</th>\n",
       "      <td>1</td>\n",
       "      <td>0</td>\n",
       "      <td>14</td>\n",
       "      <td>2015</td>\n",
       "      <td>July</td>\n",
       "      <td>27</td>\n",
       "      <td>1</td>\n",
       "      <td>0</td>\n",
       "      <td>2</td>\n",
       "      <td>2</td>\n",
       "      <td>...</td>\n",
       "      <td>0</td>\n",
       "      <td>0</td>\n",
       "      <td>0</td>\n",
       "      <td>0</td>\n",
       "      <td>2</td>\n",
       "      <td>98.00</td>\n",
       "      <td>0</td>\n",
       "      <td>1</td>\n",
       "      <td>1</td>\n",
       "      <td>2015-07-03</td>\n",
       "    </tr>\n",
       "    <tr>\n",
       "      <th>...</th>\n",
       "      <td>...</td>\n",
       "      <td>...</td>\n",
       "      <td>...</td>\n",
       "      <td>...</td>\n",
       "      <td>...</td>\n",
       "      <td>...</td>\n",
       "      <td>...</td>\n",
       "      <td>...</td>\n",
       "      <td>...</td>\n",
       "      <td>...</td>\n",
       "      <td>...</td>\n",
       "      <td>...</td>\n",
       "      <td>...</td>\n",
       "      <td>...</td>\n",
       "      <td>...</td>\n",
       "      <td>...</td>\n",
       "      <td>...</td>\n",
       "      <td>...</td>\n",
       "      <td>...</td>\n",
       "      <td>...</td>\n",
       "      <td>...</td>\n",
       "    </tr>\n",
       "    <tr>\n",
       "      <th>119385</th>\n",
       "      <td>0</td>\n",
       "      <td>0</td>\n",
       "      <td>23</td>\n",
       "      <td>2017</td>\n",
       "      <td>August</td>\n",
       "      <td>35</td>\n",
       "      <td>30</td>\n",
       "      <td>2</td>\n",
       "      <td>5</td>\n",
       "      <td>2</td>\n",
       "      <td>...</td>\n",
       "      <td>0</td>\n",
       "      <td>0</td>\n",
       "      <td>0</td>\n",
       "      <td>0</td>\n",
       "      <td>2</td>\n",
       "      <td>96.14</td>\n",
       "      <td>0</td>\n",
       "      <td>0</td>\n",
       "      <td>1</td>\n",
       "      <td>2017-09-06</td>\n",
       "    </tr>\n",
       "    <tr>\n",
       "      <th>119386</th>\n",
       "      <td>0</td>\n",
       "      <td>0</td>\n",
       "      <td>102</td>\n",
       "      <td>2017</td>\n",
       "      <td>August</td>\n",
       "      <td>35</td>\n",
       "      <td>31</td>\n",
       "      <td>2</td>\n",
       "      <td>5</td>\n",
       "      <td>3</td>\n",
       "      <td>...</td>\n",
       "      <td>4</td>\n",
       "      <td>0</td>\n",
       "      <td>0</td>\n",
       "      <td>0</td>\n",
       "      <td>2</td>\n",
       "      <td>225.43</td>\n",
       "      <td>0</td>\n",
       "      <td>2</td>\n",
       "      <td>1</td>\n",
       "      <td>2017-09-07</td>\n",
       "    </tr>\n",
       "    <tr>\n",
       "      <th>119387</th>\n",
       "      <td>0</td>\n",
       "      <td>0</td>\n",
       "      <td>34</td>\n",
       "      <td>2017</td>\n",
       "      <td>August</td>\n",
       "      <td>35</td>\n",
       "      <td>31</td>\n",
       "      <td>2</td>\n",
       "      <td>5</td>\n",
       "      <td>2</td>\n",
       "      <td>...</td>\n",
       "      <td>3</td>\n",
       "      <td>0</td>\n",
       "      <td>0</td>\n",
       "      <td>0</td>\n",
       "      <td>2</td>\n",
       "      <td>157.71</td>\n",
       "      <td>0</td>\n",
       "      <td>4</td>\n",
       "      <td>1</td>\n",
       "      <td>2017-09-07</td>\n",
       "    </tr>\n",
       "    <tr>\n",
       "      <th>119388</th>\n",
       "      <td>0</td>\n",
       "      <td>0</td>\n",
       "      <td>109</td>\n",
       "      <td>2017</td>\n",
       "      <td>August</td>\n",
       "      <td>35</td>\n",
       "      <td>31</td>\n",
       "      <td>2</td>\n",
       "      <td>5</td>\n",
       "      <td>2</td>\n",
       "      <td>...</td>\n",
       "      <td>0</td>\n",
       "      <td>0</td>\n",
       "      <td>0</td>\n",
       "      <td>0</td>\n",
       "      <td>2</td>\n",
       "      <td>104.40</td>\n",
       "      <td>0</td>\n",
       "      <td>0</td>\n",
       "      <td>1</td>\n",
       "      <td>2017-09-07</td>\n",
       "    </tr>\n",
       "    <tr>\n",
       "      <th>119389</th>\n",
       "      <td>0</td>\n",
       "      <td>0</td>\n",
       "      <td>205</td>\n",
       "      <td>2017</td>\n",
       "      <td>August</td>\n",
       "      <td>35</td>\n",
       "      <td>29</td>\n",
       "      <td>2</td>\n",
       "      <td>7</td>\n",
       "      <td>2</td>\n",
       "      <td>...</td>\n",
       "      <td>0</td>\n",
       "      <td>0</td>\n",
       "      <td>0</td>\n",
       "      <td>0</td>\n",
       "      <td>2</td>\n",
       "      <td>151.20</td>\n",
       "      <td>0</td>\n",
       "      <td>2</td>\n",
       "      <td>1</td>\n",
       "      <td>2017-09-07</td>\n",
       "    </tr>\n",
       "  </tbody>\n",
       "</table>\n",
       "<p>119390 rows × 30 columns</p>\n",
       "</div>"
      ],
      "text/plain": [
       "        hotel  is_canceled  lead_time  arrival_date_year arrival_date_month  \\\n",
       "0           1            0        342               2015               July   \n",
       "1           1            0        737               2015               July   \n",
       "2           1            0          7               2015               July   \n",
       "3           1            0         13               2015               July   \n",
       "4           1            0         14               2015               July   \n",
       "...       ...          ...        ...                ...                ...   \n",
       "119385      0            0         23               2017             August   \n",
       "119386      0            0        102               2017             August   \n",
       "119387      0            0         34               2017             August   \n",
       "119388      0            0        109               2017             August   \n",
       "119389      0            0        205               2017             August   \n",
       "\n",
       "        arrival_date_week_number  arrival_date_day_of_month  \\\n",
       "0                             27                          1   \n",
       "1                             27                          1   \n",
       "2                             27                          1   \n",
       "3                             27                          1   \n",
       "4                             27                          1   \n",
       "...                          ...                        ...   \n",
       "119385                        35                         30   \n",
       "119386                        35                         31   \n",
       "119387                        35                         31   \n",
       "119388                        35                         31   \n",
       "119389                        35                         29   \n",
       "\n",
       "        stays_in_weekend_nights  stays_in_week_nights  adults  ...  \\\n",
       "0                             0                     0       2  ...   \n",
       "1                             0                     0       2  ...   \n",
       "2                             0                     1       1  ...   \n",
       "3                             0                     1       1  ...   \n",
       "4                             0                     2       2  ...   \n",
       "...                         ...                   ...     ...  ...   \n",
       "119385                        2                     5       2  ...   \n",
       "119386                        2                     5       3  ...   \n",
       "119387                        2                     5       2  ...   \n",
       "119388                        2                     5       2  ...   \n",
       "119389                        2                     7       2  ...   \n",
       "\n",
       "        assigned_room_type  booking_changes  deposit_type  \\\n",
       "0                        2                3             0   \n",
       "1                        2                4             0   \n",
       "2                        2                0             0   \n",
       "3                        0                0             0   \n",
       "4                        0                0             0   \n",
       "...                    ...              ...           ...   \n",
       "119385                   0                0             0   \n",
       "119386                   4                0             0   \n",
       "119387                   3                0             0   \n",
       "119388                   0                0             0   \n",
       "119389                   0                0             0   \n",
       "\n",
       "       days_in_waiting_list  customer_type     adr  \\\n",
       "0                         0              2    0.00   \n",
       "1                         0              2    0.00   \n",
       "2                         0              2   75.00   \n",
       "3                         0              2   75.00   \n",
       "4                         0              2   98.00   \n",
       "...                     ...            ...     ...   \n",
       "119385                    0              2   96.14   \n",
       "119386                    0              2  225.43   \n",
       "119387                    0              2  157.71   \n",
       "119388                    0              2  104.40   \n",
       "119389                    0              2  151.20   \n",
       "\n",
       "        required_car_parking_spaces  total_of_special_requests  \\\n",
       "0                                 0                          0   \n",
       "1                                 0                          0   \n",
       "2                                 0                          0   \n",
       "3                                 0                          0   \n",
       "4                                 0                          1   \n",
       "...                             ...                        ...   \n",
       "119385                            0                          0   \n",
       "119386                            0                          2   \n",
       "119387                            0                          4   \n",
       "119388                            0                          0   \n",
       "119389                            0                          2   \n",
       "\n",
       "        reservation_status  reservation_status_date  \n",
       "0                        1               2015-07-01  \n",
       "1                        1               2015-07-01  \n",
       "2                        1               2015-07-02  \n",
       "3                        1               2015-07-02  \n",
       "4                        1               2015-07-03  \n",
       "...                    ...                      ...  \n",
       "119385                   1               2017-09-06  \n",
       "119386                   1               2017-09-07  \n",
       "119387                   1               2017-09-07  \n",
       "119388                   1               2017-09-07  \n",
       "119389                   1               2017-09-07  \n",
       "\n",
       "[119390 rows x 30 columns]"
      ]
     },
     "execution_count": 7,
     "metadata": {},
     "output_type": "execute_result"
    }
   ],
   "source": [
    "hotel_bookings_transform"
   ]
  },
  {
   "cell_type": "code",
   "execution_count": 8,
   "metadata": {},
   "outputs": [
    {
     "data": {
      "text/html": [
       "<div>\n",
       "<style scoped>\n",
       "    .dataframe tbody tr th:only-of-type {\n",
       "        vertical-align: middle;\n",
       "    }\n",
       "\n",
       "    .dataframe tbody tr th {\n",
       "        vertical-align: top;\n",
       "    }\n",
       "\n",
       "    .dataframe thead th {\n",
       "        text-align: right;\n",
       "    }\n",
       "</style>\n",
       "<table border=\"1\" class=\"dataframe\">\n",
       "  <thead>\n",
       "    <tr style=\"text-align: right;\">\n",
       "      <th></th>\n",
       "      <th>hotel</th>\n",
       "      <th>is_canceled</th>\n",
       "      <th>lead_time</th>\n",
       "      <th>arrival_date_year</th>\n",
       "      <th>arrival_date_month</th>\n",
       "      <th>arrival_date_week_number</th>\n",
       "      <th>arrival_date_day_of_month</th>\n",
       "      <th>stays_in_weekend_nights</th>\n",
       "      <th>stays_in_week_nights</th>\n",
       "      <th>adults</th>\n",
       "      <th>...</th>\n",
       "      <th>assigned_room_type</th>\n",
       "      <th>booking_changes</th>\n",
       "      <th>deposit_type</th>\n",
       "      <th>days_in_waiting_list</th>\n",
       "      <th>customer_type</th>\n",
       "      <th>adr</th>\n",
       "      <th>required_car_parking_spaces</th>\n",
       "      <th>total_of_special_requests</th>\n",
       "      <th>reservation_status</th>\n",
       "      <th>reservation_status_date</th>\n",
       "    </tr>\n",
       "  </thead>\n",
       "  <tbody>\n",
       "    <tr>\n",
       "      <th>0</th>\n",
       "      <td>1</td>\n",
       "      <td>0</td>\n",
       "      <td>342</td>\n",
       "      <td>2015</td>\n",
       "      <td>7</td>\n",
       "      <td>27</td>\n",
       "      <td>1</td>\n",
       "      <td>0</td>\n",
       "      <td>0</td>\n",
       "      <td>2</td>\n",
       "      <td>...</td>\n",
       "      <td>2</td>\n",
       "      <td>3</td>\n",
       "      <td>0</td>\n",
       "      <td>0</td>\n",
       "      <td>2</td>\n",
       "      <td>0.0</td>\n",
       "      <td>0</td>\n",
       "      <td>0</td>\n",
       "      <td>1</td>\n",
       "      <td>2015-07-01</td>\n",
       "    </tr>\n",
       "    <tr>\n",
       "      <th>1</th>\n",
       "      <td>1</td>\n",
       "      <td>0</td>\n",
       "      <td>737</td>\n",
       "      <td>2015</td>\n",
       "      <td>7</td>\n",
       "      <td>27</td>\n",
       "      <td>1</td>\n",
       "      <td>0</td>\n",
       "      <td>0</td>\n",
       "      <td>2</td>\n",
       "      <td>...</td>\n",
       "      <td>2</td>\n",
       "      <td>4</td>\n",
       "      <td>0</td>\n",
       "      <td>0</td>\n",
       "      <td>2</td>\n",
       "      <td>0.0</td>\n",
       "      <td>0</td>\n",
       "      <td>0</td>\n",
       "      <td>1</td>\n",
       "      <td>2015-07-01</td>\n",
       "    </tr>\n",
       "    <tr>\n",
       "      <th>2</th>\n",
       "      <td>1</td>\n",
       "      <td>0</td>\n",
       "      <td>7</td>\n",
       "      <td>2015</td>\n",
       "      <td>7</td>\n",
       "      <td>27</td>\n",
       "      <td>1</td>\n",
       "      <td>0</td>\n",
       "      <td>1</td>\n",
       "      <td>1</td>\n",
       "      <td>...</td>\n",
       "      <td>2</td>\n",
       "      <td>0</td>\n",
       "      <td>0</td>\n",
       "      <td>0</td>\n",
       "      <td>2</td>\n",
       "      <td>75.0</td>\n",
       "      <td>0</td>\n",
       "      <td>0</td>\n",
       "      <td>1</td>\n",
       "      <td>2015-07-02</td>\n",
       "    </tr>\n",
       "    <tr>\n",
       "      <th>3</th>\n",
       "      <td>1</td>\n",
       "      <td>0</td>\n",
       "      <td>13</td>\n",
       "      <td>2015</td>\n",
       "      <td>7</td>\n",
       "      <td>27</td>\n",
       "      <td>1</td>\n",
       "      <td>0</td>\n",
       "      <td>1</td>\n",
       "      <td>1</td>\n",
       "      <td>...</td>\n",
       "      <td>0</td>\n",
       "      <td>0</td>\n",
       "      <td>0</td>\n",
       "      <td>0</td>\n",
       "      <td>2</td>\n",
       "      <td>75.0</td>\n",
       "      <td>0</td>\n",
       "      <td>0</td>\n",
       "      <td>1</td>\n",
       "      <td>2015-07-02</td>\n",
       "    </tr>\n",
       "    <tr>\n",
       "      <th>4</th>\n",
       "      <td>1</td>\n",
       "      <td>0</td>\n",
       "      <td>14</td>\n",
       "      <td>2015</td>\n",
       "      <td>7</td>\n",
       "      <td>27</td>\n",
       "      <td>1</td>\n",
       "      <td>0</td>\n",
       "      <td>2</td>\n",
       "      <td>2</td>\n",
       "      <td>...</td>\n",
       "      <td>0</td>\n",
       "      <td>0</td>\n",
       "      <td>0</td>\n",
       "      <td>0</td>\n",
       "      <td>2</td>\n",
       "      <td>98.0</td>\n",
       "      <td>0</td>\n",
       "      <td>1</td>\n",
       "      <td>1</td>\n",
       "      <td>2015-07-03</td>\n",
       "    </tr>\n",
       "  </tbody>\n",
       "</table>\n",
       "<p>5 rows × 30 columns</p>\n",
       "</div>"
      ],
      "text/plain": [
       "   hotel  is_canceled  lead_time  arrival_date_year  arrival_date_month  \\\n",
       "0      1            0        342               2015                   7   \n",
       "1      1            0        737               2015                   7   \n",
       "2      1            0          7               2015                   7   \n",
       "3      1            0         13               2015                   7   \n",
       "4      1            0         14               2015                   7   \n",
       "\n",
       "   arrival_date_week_number  arrival_date_day_of_month  \\\n",
       "0                        27                          1   \n",
       "1                        27                          1   \n",
       "2                        27                          1   \n",
       "3                        27                          1   \n",
       "4                        27                          1   \n",
       "\n",
       "   stays_in_weekend_nights  stays_in_week_nights  adults  ...  \\\n",
       "0                        0                     0       2  ...   \n",
       "1                        0                     0       2  ...   \n",
       "2                        0                     1       1  ...   \n",
       "3                        0                     1       1  ...   \n",
       "4                        0                     2       2  ...   \n",
       "\n",
       "   assigned_room_type  booking_changes  deposit_type days_in_waiting_list  \\\n",
       "0                   2                3             0                    0   \n",
       "1                   2                4             0                    0   \n",
       "2                   2                0             0                    0   \n",
       "3                   0                0             0                    0   \n",
       "4                   0                0             0                    0   \n",
       "\n",
       "   customer_type   adr  required_car_parking_spaces  \\\n",
       "0              2   0.0                            0   \n",
       "1              2   0.0                            0   \n",
       "2              2  75.0                            0   \n",
       "3              2  75.0                            0   \n",
       "4              2  98.0                            0   \n",
       "\n",
       "   total_of_special_requests  reservation_status  reservation_status_date  \n",
       "0                          0                   1               2015-07-01  \n",
       "1                          0                   1               2015-07-01  \n",
       "2                          0                   1               2015-07-02  \n",
       "3                          0                   1               2015-07-02  \n",
       "4                          1                   1               2015-07-03  \n",
       "\n",
       "[5 rows x 30 columns]"
      ]
     },
     "execution_count": 8,
     "metadata": {},
     "output_type": "execute_result"
    }
   ],
   "source": [
    "assign_month = {\"arrival_date_month\": {\"January\": 1, \"February\": 2, \"March\": 3, \"April\": 4,\"May\": 5,\"June\": 6,\"July\": 7,\"August\": 8,\"September\": 9,\"October\": 10,\"November\": 11,\"December\": 12}}\n",
    "#assign_cust = {\"customer_type\": {\"Transient\": 1, \"Contract\": 2, \"Transient-Party\": 3, \"Group\": 4 }}\n",
    "hotel_bookings_transform = hotel_bookings_transform.replace(assign_month)\n",
    "hotel_bookings_transform.head()\n",
    "\n",
    "\n"
   ]
  },
  {
   "cell_type": "code",
   "execution_count": 9,
   "metadata": {},
   "outputs": [
    {
     "data": {
      "text/plain": [
       "0        2015-07-01\n",
       "1        2015-07-01\n",
       "2        2015-07-01\n",
       "3        2015-07-01\n",
       "4        2015-07-01\n",
       "            ...    \n",
       "119385   2017-08-30\n",
       "119386   2017-08-31\n",
       "119387   2017-08-31\n",
       "119388   2017-08-31\n",
       "119389   2017-08-29\n",
       "Name: booking_date, Length: 119390, dtype: datetime64[ns]"
      ]
     },
     "execution_count": 9,
     "metadata": {},
     "output_type": "execute_result"
    }
   ],
   "source": [
    "#TODO: modify this code with hotel_bookings\n",
    "hotel_bookings_transform=hotel_bookings_transform.assign(booking_date = hotel_bookings_transform[\"arrival_date_year\"].astype(str) + '-' + \n",
    "hotel_bookings_transform[\"arrival_date_month\"].astype(str) + '-' +hotel_bookings_transform[\"arrival_date_day_of_month\"].astype(str))\n",
    "hotel_bookings_transform['booking_date']=pd.to_datetime(hotel_bookings_transform.booking_date)\n",
    "hotel_bookings_transform['booking_date']"
   ]
  },
  {
   "cell_type": "code",
   "execution_count": 125,
   "metadata": {},
   "outputs": [
    {
     "data": {
      "text/plain": [
       "0    0.0\n",
       "dtype: float64"
      ]
     },
     "execution_count": 125,
     "metadata": {},
     "output_type": "execute_result"
    }
   ],
   "source": []
  },
  {
   "cell_type": "code",
   "execution_count": 10,
   "metadata": {},
   "outputs": [
    {
     "data": {
      "text/plain": [
       "hotel                             0\n",
       "is_canceled                       0\n",
       "lead_time                         0\n",
       "arrival_date_year                 0\n",
       "arrival_date_month                0\n",
       "arrival_date_week_number          0\n",
       "arrival_date_day_of_month         0\n",
       "stays_in_weekend_nights           0\n",
       "stays_in_week_nights              0\n",
       "adults                            0\n",
       "children                          0\n",
       "babies                            0\n",
       "meal                              0\n",
       "country                           0\n",
       "market_segment                    0\n",
       "distribution_channel              0\n",
       "is_repeated_guest                 0\n",
       "previous_cancellations            0\n",
       "previous_bookings_not_canceled    0\n",
       "reserved_room_type                0\n",
       "assigned_room_type                0\n",
       "booking_changes                   0\n",
       "deposit_type                      0\n",
       "days_in_waiting_list              0\n",
       "customer_type                     0\n",
       "adr                               0\n",
       "required_car_parking_spaces       0\n",
       "total_of_special_requests         0\n",
       "reservation_status                0\n",
       "reservation_status_date           0\n",
       "booking_date                      0\n",
       "dtype: int64"
      ]
     },
     "execution_count": 10,
     "metadata": {},
     "output_type": "execute_result"
    }
   ],
   "source": [
    "hotel_bookings_transform.isnull().sum()"
   ]
  },
  {
   "cell_type": "code",
   "execution_count": 11,
   "metadata": {},
   "outputs": [
    {
     "data": {
      "text/html": [
       "<div>\n",
       "<style scoped>\n",
       "    .dataframe tbody tr th:only-of-type {\n",
       "        vertical-align: middle;\n",
       "    }\n",
       "\n",
       "    .dataframe tbody tr th {\n",
       "        vertical-align: top;\n",
       "    }\n",
       "\n",
       "    .dataframe thead th {\n",
       "        text-align: right;\n",
       "    }\n",
       "</style>\n",
       "<table border=\"1\" class=\"dataframe\">\n",
       "  <thead>\n",
       "    <tr style=\"text-align: right;\">\n",
       "      <th></th>\n",
       "      <th>hotel</th>\n",
       "      <th>is_canceled</th>\n",
       "      <th>lead_time</th>\n",
       "      <th>arrival_date_year</th>\n",
       "      <th>arrival_date_month</th>\n",
       "      <th>arrival_date_week_number</th>\n",
       "      <th>arrival_date_day_of_month</th>\n",
       "      <th>stays_in_weekend_nights</th>\n",
       "      <th>stays_in_week_nights</th>\n",
       "      <th>adults</th>\n",
       "      <th>...</th>\n",
       "      <th>deposit_type</th>\n",
       "      <th>agent</th>\n",
       "      <th>company</th>\n",
       "      <th>days_in_waiting_list</th>\n",
       "      <th>customer_type</th>\n",
       "      <th>adr</th>\n",
       "      <th>required_car_parking_spaces</th>\n",
       "      <th>total_of_special_requests</th>\n",
       "      <th>reservation_status</th>\n",
       "      <th>reservation_status_date</th>\n",
       "    </tr>\n",
       "  </thead>\n",
       "  <tbody>\n",
       "    <tr>\n",
       "      <th>0</th>\n",
       "      <td>0</td>\n",
       "      <td>0</td>\n",
       "      <td>0</td>\n",
       "      <td>2016</td>\n",
       "      <td>August</td>\n",
       "      <td>33</td>\n",
       "      <td>17</td>\n",
       "      <td>0</td>\n",
       "      <td>2</td>\n",
       "      <td>2</td>\n",
       "      <td>...</td>\n",
       "      <td>0</td>\n",
       "      <td>9.0</td>\n",
       "      <td>40.0</td>\n",
       "      <td>0</td>\n",
       "      <td>2</td>\n",
       "      <td>62.0</td>\n",
       "      <td>0</td>\n",
       "      <td>0</td>\n",
       "      <td>1</td>\n",
       "      <td>2015-10-21</td>\n",
       "    </tr>\n",
       "  </tbody>\n",
       "</table>\n",
       "<p>1 rows × 32 columns</p>\n",
       "</div>"
      ],
      "text/plain": [
       "   hotel  is_canceled  lead_time  arrival_date_year arrival_date_month  \\\n",
       "0      0            0          0               2016             August   \n",
       "\n",
       "   arrival_date_week_number  arrival_date_day_of_month  \\\n",
       "0                        33                         17   \n",
       "\n",
       "   stays_in_weekend_nights  stays_in_week_nights  adults  ...  deposit_type  \\\n",
       "0                        0                     2       2  ...             0   \n",
       "\n",
       "   agent  company days_in_waiting_list  customer_type   adr  \\\n",
       "0    9.0     40.0                    0              2  62.0   \n",
       "\n",
       "   required_car_parking_spaces  total_of_special_requests  reservation_status  \\\n",
       "0                            0                          0                   1   \n",
       "\n",
       "   reservation_status_date  \n",
       "0               2015-10-21  \n",
       "\n",
       "[1 rows x 32 columns]"
      ]
     },
     "execution_count": 11,
     "metadata": {},
     "output_type": "execute_result"
    }
   ],
   "source": [
    "hotel_bookings.mode()"
   ]
  },
  {
   "cell_type": "code",
   "execution_count": 12,
   "metadata": {},
   "outputs": [
    {
     "data": {
      "text/plain": [
       "0    9.0\n",
       "dtype: float64"
      ]
     },
     "execution_count": 12,
     "metadata": {},
     "output_type": "execute_result"
    }
   ],
   "source": [
    "hotel_bookings.loc[:,\"agent\"].mode()"
   ]
  },
  {
   "cell_type": "code",
   "execution_count": 13,
   "metadata": {},
   "outputs": [
    {
     "data": {
      "text/plain": [
       "0    40.0\n",
       "dtype: float64"
      ]
     },
     "execution_count": 13,
     "metadata": {},
     "output_type": "execute_result"
    }
   ],
   "source": [
    "hotel_bookings.loc[:,\"company\"].mode()"
   ]
  },
  {
   "cell_type": "code",
   "execution_count": null,
   "metadata": {},
   "outputs": [],
   "source": []
  },
  {
   "cell_type": "code",
   "execution_count": 15,
   "metadata": {},
   "outputs": [
    {
     "name": "stdout",
     "output_type": "stream",
     "text": [
      "<class 'pandas.core.frame.DataFrame'>\n",
      "RangeIndex: 119390 entries, 0 to 119389\n",
      "Data columns (total 32 columns):\n",
      " #   Column                          Non-Null Count   Dtype  \n",
      "---  ------                          --------------   -----  \n",
      " 0   hotel                           119390 non-null  int8   \n",
      " 1   is_canceled                     119390 non-null  int64  \n",
      " 2   lead_time                       119390 non-null  int64  \n",
      " 3   arrival_date_year               119390 non-null  int64  \n",
      " 4   arrival_date_month              119390 non-null  object \n",
      " 5   arrival_date_week_number        119390 non-null  int64  \n",
      " 6   arrival_date_day_of_month       119390 non-null  int64  \n",
      " 7   stays_in_weekend_nights         119390 non-null  int64  \n",
      " 8   stays_in_week_nights            119390 non-null  int64  \n",
      " 9   adults                          119390 non-null  int64  \n",
      " 10  children                        119390 non-null  float64\n",
      " 11  babies                          119390 non-null  int64  \n",
      " 12  meal                            119390 non-null  int8   \n",
      " 13  country                         119390 non-null  object \n",
      " 14  market_segment                  119390 non-null  int8   \n",
      " 15  distribution_channel            119390 non-null  int8   \n",
      " 16  is_repeated_guest               119390 non-null  int64  \n",
      " 17  previous_cancellations          119390 non-null  int64  \n",
      " 18  previous_bookings_not_canceled  119390 non-null  int64  \n",
      " 19  reserved_room_type              119390 non-null  int8   \n",
      " 20  assigned_room_type              119390 non-null  int8   \n",
      " 21  booking_changes                 119390 non-null  int64  \n",
      " 22  deposit_type                    119390 non-null  int8   \n",
      " 23  agent                           103050 non-null  float64\n",
      " 24  company                         6797 non-null    float64\n",
      " 25  days_in_waiting_list            119390 non-null  int64  \n",
      " 26  customer_type                   119390 non-null  int8   \n",
      " 27  adr                             119390 non-null  float64\n",
      " 28  required_car_parking_spaces     119390 non-null  int64  \n",
      " 29  total_of_special_requests       119390 non-null  int64  \n",
      " 30  reservation_status              119390 non-null  int8   \n",
      " 31  reservation_status_date         119390 non-null  object \n",
      "dtypes: float64(4), int64(16), int8(9), object(3)\n",
      "memory usage: 22.0+ MB\n"
     ]
    }
   ],
   "source": [
    "hotel_bookings.info()"
   ]
  },
  {
   "cell_type": "code",
   "execution_count": null,
   "metadata": {},
   "outputs": [],
   "source": []
  },
  {
   "cell_type": "markdown",
   "metadata": {},
   "source": [
    "## Simple Stastics\n",
    "\n",
    "&emsp; To evaluate the simple statistics we split the categorical and non categorical data. For the categorical data we explored the overall number of observations per category to find out the distribution. For the non-categorical data we explored the simple (Mean, STD, Min, Max, Percentile) by a simple describe. We used the result of this data in future visualizations. Lastly we wanted to see the total number of outliers for each of the non-categorical attributes, we decided to classify anything that was more than 3 standard deviations as an outlier below you'll see the result.\n",
    "\n",
    "- Categorical Values:\n",
    "    - hotel\n",
    "    - market_segment\n",
    "    - meal\n",
    "    - reservation_status\n",
    "    - distribution_channel\n",
    "    - reserved_room_type\n",
    "    - assigned_room_type\n",
    "    - deposit_type\n",
    "    - country \n",
    "    - customer_type\n",
    "\n",
    "- Non-categorical:\n",
    "    - lead_time                       \n",
    "    - arrival_date_year               \n",
    "    - arrival_date_month              \n",
    "    - arrival_date_week_number        \n",
    "    - stays_in_weekend_nights         \n",
    "    - stays_in_week_nights            \n",
    "    - adults                          \n",
    "    - children                        \n",
    "    - babies                          \n",
    "    - previous_cancellations          \n",
    "    - previous_bookings_not_canceled  \n",
    "    - booking_changes                 \n",
    "    - days_in_waiting_list            \n",
    "    - adr                             \n",
    "    - required_car_parking_spaces     \n",
    "    - total_of_special_requests       \n",
    "    - reservation_status_date         \n",
    "    - booking_date                    \n",
    "\n"
   ]
  },
  {
   "cell_type": "code",
   "execution_count": 16,
   "metadata": {},
   "outputs": [
    {
     "name": "stdout",
     "output_type": "stream",
     "text": [
      "<class 'pandas.core.frame.DataFrame'>\n",
      "RangeIndex: 119390 entries, 0 to 119389\n",
      "Data columns (total 18 columns):\n",
      " #   Column                          Non-Null Count   Dtype         \n",
      "---  ------                          --------------   -----         \n",
      " 0   lead_time                       119390 non-null  int64         \n",
      " 1   arrival_date_year               119390 non-null  int64         \n",
      " 2   arrival_date_month              119390 non-null  int64         \n",
      " 3   arrival_date_week_number        119390 non-null  int64         \n",
      " 4   stays_in_weekend_nights         119390 non-null  int64         \n",
      " 5   stays_in_week_nights            119390 non-null  int64         \n",
      " 6   adults                          119390 non-null  int64         \n",
      " 7   children                        119390 non-null  float64       \n",
      " 8   babies                          119390 non-null  int64         \n",
      " 9   previous_cancellations          119390 non-null  int64         \n",
      " 10  previous_bookings_not_canceled  119390 non-null  int64         \n",
      " 11  booking_changes                 119390 non-null  int64         \n",
      " 12  days_in_waiting_list            119390 non-null  int64         \n",
      " 13  adr                             119390 non-null  float64       \n",
      " 14  required_car_parking_spaces     119390 non-null  int64         \n",
      " 15  total_of_special_requests       119390 non-null  int64         \n",
      " 16  reservation_status_date         119390 non-null  object        \n",
      " 17  booking_date                    119390 non-null  datetime64[ns]\n",
      "dtypes: datetime64[ns](1), float64(2), int64(14), object(1)\n",
      "memory usage: 16.4+ MB\n"
     ]
    }
   ],
   "source": [
    "hotel_bookings_transform_non_categorical = hotel_bookings_transform.drop(columns=['hotel','market_segment','meal','reservation_status','distribution_channel','reserved_room_type','assigned_room_type','deposit_type','country','customer_type','is_canceled','is_repeated_guest','arrival_date_day_of_month'])\n",
    "\n",
    "hotel_bookings_transform_non_categorical.info()"
   ]
  },
  {
   "cell_type": "code",
   "execution_count": 17,
   "metadata": {},
   "outputs": [
    {
     "name": "stdout",
     "output_type": "stream",
     "text": [
      "<class 'pandas.core.frame.DataFrame'>\n",
      "RangeIndex: 119390 entries, 0 to 119389\n",
      "Data columns (total 12 columns):\n",
      " #   Column                Non-Null Count   Dtype \n",
      "---  ------                --------------   ----- \n",
      " 0   hotel                 119390 non-null  int8  \n",
      " 1   market_segment        119390 non-null  int8  \n",
      " 2   meal                  119390 non-null  int8  \n",
      " 3   reservation_status    119390 non-null  int8  \n",
      " 4   distribution_channel  119390 non-null  int8  \n",
      " 5   reserved_room_type    119390 non-null  int8  \n",
      " 6   assigned_room_type    119390 non-null  int8  \n",
      " 7   deposit_type          119390 non-null  int8  \n",
      " 8   country               119390 non-null  object\n",
      " 9   customer_type         119390 non-null  int8  \n",
      " 10  is_canceled           119390 non-null  int64 \n",
      " 11  is_repeated_guest     119390 non-null  int64 \n",
      "dtypes: int64(2), int8(9), object(1)\n",
      "memory usage: 3.8+ MB\n"
     ]
    }
   ],
   "source": [
    "hotel_bookings_transform_categorical = hotel_bookings_transform[['hotel','market_segment','meal','reservation_status','distribution_channel','reserved_room_type','assigned_room_type','deposit_type','country','customer_type','is_canceled','is_repeated_guest']]\n",
    "hotel_bookings_transform_categorical.info()"
   ]
  },
  {
   "cell_type": "code",
   "execution_count": 246,
   "metadata": {},
   "outputs": [
    {
     "data": {
      "text/html": [
       "<div>\n",
       "<style scoped>\n",
       "    .dataframe tbody tr th:only-of-type {\n",
       "        vertical-align: middle;\n",
       "    }\n",
       "\n",
       "    .dataframe tbody tr th {\n",
       "        vertical-align: top;\n",
       "    }\n",
       "\n",
       "    .dataframe thead th {\n",
       "        text-align: right;\n",
       "    }\n",
       "</style>\n",
       "<table border=\"1\" class=\"dataframe\">\n",
       "  <thead>\n",
       "    <tr style=\"text-align: right;\">\n",
       "      <th></th>\n",
       "      <th>lead_time</th>\n",
       "      <th>arrival_date_year</th>\n",
       "      <th>arrival_date_month</th>\n",
       "      <th>arrival_date_week_number</th>\n",
       "      <th>stays_in_weekend_nights</th>\n",
       "      <th>stays_in_week_nights</th>\n",
       "      <th>adults</th>\n",
       "      <th>children</th>\n",
       "      <th>babies</th>\n",
       "      <th>previous_cancellations</th>\n",
       "      <th>previous_bookings_not_canceled</th>\n",
       "      <th>booking_changes</th>\n",
       "      <th>days_in_waiting_list</th>\n",
       "      <th>adr</th>\n",
       "      <th>required_car_parking_spaces</th>\n",
       "      <th>total_of_special_requests</th>\n",
       "    </tr>\n",
       "  </thead>\n",
       "  <tbody>\n",
       "    <tr>\n",
       "      <th>count</th>\n",
       "      <td>119390.000000</td>\n",
       "      <td>119390.000000</td>\n",
       "      <td>119390.000000</td>\n",
       "      <td>119390.000000</td>\n",
       "      <td>119390.000000</td>\n",
       "      <td>119390.000000</td>\n",
       "      <td>119390.000000</td>\n",
       "      <td>119390.000000</td>\n",
       "      <td>119390.000000</td>\n",
       "      <td>119390.000000</td>\n",
       "      <td>119390.000000</td>\n",
       "      <td>119390.000000</td>\n",
       "      <td>119390.000000</td>\n",
       "      <td>119390.000000</td>\n",
       "      <td>119390.000000</td>\n",
       "      <td>119390.000000</td>\n",
       "    </tr>\n",
       "    <tr>\n",
       "      <th>mean</th>\n",
       "      <td>104.011416</td>\n",
       "      <td>2016.156554</td>\n",
       "      <td>6.552483</td>\n",
       "      <td>27.165173</td>\n",
       "      <td>0.927599</td>\n",
       "      <td>2.500302</td>\n",
       "      <td>1.856403</td>\n",
       "      <td>0.103886</td>\n",
       "      <td>0.007949</td>\n",
       "      <td>0.087118</td>\n",
       "      <td>0.137097</td>\n",
       "      <td>0.221124</td>\n",
       "      <td>2.321149</td>\n",
       "      <td>101.831122</td>\n",
       "      <td>0.062518</td>\n",
       "      <td>0.571363</td>\n",
       "    </tr>\n",
       "    <tr>\n",
       "      <th>std</th>\n",
       "      <td>106.863097</td>\n",
       "      <td>0.707476</td>\n",
       "      <td>3.090619</td>\n",
       "      <td>13.605138</td>\n",
       "      <td>0.998613</td>\n",
       "      <td>1.908286</td>\n",
       "      <td>0.579261</td>\n",
       "      <td>0.398555</td>\n",
       "      <td>0.097436</td>\n",
       "      <td>0.844336</td>\n",
       "      <td>1.497437</td>\n",
       "      <td>0.652306</td>\n",
       "      <td>17.594721</td>\n",
       "      <td>50.535790</td>\n",
       "      <td>0.245291</td>\n",
       "      <td>0.792798</td>\n",
       "    </tr>\n",
       "    <tr>\n",
       "      <th>min</th>\n",
       "      <td>0.000000</td>\n",
       "      <td>2015.000000</td>\n",
       "      <td>1.000000</td>\n",
       "      <td>1.000000</td>\n",
       "      <td>0.000000</td>\n",
       "      <td>0.000000</td>\n",
       "      <td>0.000000</td>\n",
       "      <td>0.000000</td>\n",
       "      <td>0.000000</td>\n",
       "      <td>0.000000</td>\n",
       "      <td>0.000000</td>\n",
       "      <td>0.000000</td>\n",
       "      <td>0.000000</td>\n",
       "      <td>-6.380000</td>\n",
       "      <td>0.000000</td>\n",
       "      <td>0.000000</td>\n",
       "    </tr>\n",
       "    <tr>\n",
       "      <th>25%</th>\n",
       "      <td>18.000000</td>\n",
       "      <td>2016.000000</td>\n",
       "      <td>4.000000</td>\n",
       "      <td>16.000000</td>\n",
       "      <td>0.000000</td>\n",
       "      <td>1.000000</td>\n",
       "      <td>2.000000</td>\n",
       "      <td>0.000000</td>\n",
       "      <td>0.000000</td>\n",
       "      <td>0.000000</td>\n",
       "      <td>0.000000</td>\n",
       "      <td>0.000000</td>\n",
       "      <td>0.000000</td>\n",
       "      <td>69.290000</td>\n",
       "      <td>0.000000</td>\n",
       "      <td>0.000000</td>\n",
       "    </tr>\n",
       "    <tr>\n",
       "      <th>50%</th>\n",
       "      <td>69.000000</td>\n",
       "      <td>2016.000000</td>\n",
       "      <td>7.000000</td>\n",
       "      <td>28.000000</td>\n",
       "      <td>1.000000</td>\n",
       "      <td>2.000000</td>\n",
       "      <td>2.000000</td>\n",
       "      <td>0.000000</td>\n",
       "      <td>0.000000</td>\n",
       "      <td>0.000000</td>\n",
       "      <td>0.000000</td>\n",
       "      <td>0.000000</td>\n",
       "      <td>0.000000</td>\n",
       "      <td>94.575000</td>\n",
       "      <td>0.000000</td>\n",
       "      <td>0.000000</td>\n",
       "    </tr>\n",
       "    <tr>\n",
       "      <th>75%</th>\n",
       "      <td>160.000000</td>\n",
       "      <td>2017.000000</td>\n",
       "      <td>9.000000</td>\n",
       "      <td>38.000000</td>\n",
       "      <td>2.000000</td>\n",
       "      <td>3.000000</td>\n",
       "      <td>2.000000</td>\n",
       "      <td>0.000000</td>\n",
       "      <td>0.000000</td>\n",
       "      <td>0.000000</td>\n",
       "      <td>0.000000</td>\n",
       "      <td>0.000000</td>\n",
       "      <td>0.000000</td>\n",
       "      <td>126.000000</td>\n",
       "      <td>0.000000</td>\n",
       "      <td>1.000000</td>\n",
       "    </tr>\n",
       "    <tr>\n",
       "      <th>max</th>\n",
       "      <td>737.000000</td>\n",
       "      <td>2017.000000</td>\n",
       "      <td>12.000000</td>\n",
       "      <td>53.000000</td>\n",
       "      <td>19.000000</td>\n",
       "      <td>50.000000</td>\n",
       "      <td>55.000000</td>\n",
       "      <td>10.000000</td>\n",
       "      <td>10.000000</td>\n",
       "      <td>26.000000</td>\n",
       "      <td>72.000000</td>\n",
       "      <td>21.000000</td>\n",
       "      <td>391.000000</td>\n",
       "      <td>5400.000000</td>\n",
       "      <td>8.000000</td>\n",
       "      <td>5.000000</td>\n",
       "    </tr>\n",
       "  </tbody>\n",
       "</table>\n",
       "</div>"
      ],
      "text/plain": [
       "           lead_time  arrival_date_year  arrival_date_month  \\\n",
       "count  119390.000000      119390.000000       119390.000000   \n",
       "mean      104.011416        2016.156554            6.552483   \n",
       "std       106.863097           0.707476            3.090619   \n",
       "min         0.000000        2015.000000            1.000000   \n",
       "25%        18.000000        2016.000000            4.000000   \n",
       "50%        69.000000        2016.000000            7.000000   \n",
       "75%       160.000000        2017.000000            9.000000   \n",
       "max       737.000000        2017.000000           12.000000   \n",
       "\n",
       "       arrival_date_week_number  stays_in_weekend_nights  \\\n",
       "count             119390.000000            119390.000000   \n",
       "mean                  27.165173                 0.927599   \n",
       "std                   13.605138                 0.998613   \n",
       "min                    1.000000                 0.000000   \n",
       "25%                   16.000000                 0.000000   \n",
       "50%                   28.000000                 1.000000   \n",
       "75%                   38.000000                 2.000000   \n",
       "max                   53.000000                19.000000   \n",
       "\n",
       "       stays_in_week_nights         adults       children         babies  \\\n",
       "count         119390.000000  119390.000000  119390.000000  119390.000000   \n",
       "mean               2.500302       1.856403       0.103886       0.007949   \n",
       "std                1.908286       0.579261       0.398555       0.097436   \n",
       "min                0.000000       0.000000       0.000000       0.000000   \n",
       "25%                1.000000       2.000000       0.000000       0.000000   \n",
       "50%                2.000000       2.000000       0.000000       0.000000   \n",
       "75%                3.000000       2.000000       0.000000       0.000000   \n",
       "max               50.000000      55.000000      10.000000      10.000000   \n",
       "\n",
       "       previous_cancellations  previous_bookings_not_canceled  \\\n",
       "count           119390.000000                   119390.000000   \n",
       "mean                 0.087118                        0.137097   \n",
       "std                  0.844336                        1.497437   \n",
       "min                  0.000000                        0.000000   \n",
       "25%                  0.000000                        0.000000   \n",
       "50%                  0.000000                        0.000000   \n",
       "75%                  0.000000                        0.000000   \n",
       "max                 26.000000                       72.000000   \n",
       "\n",
       "       booking_changes  days_in_waiting_list            adr  \\\n",
       "count    119390.000000         119390.000000  119390.000000   \n",
       "mean          0.221124              2.321149     101.831122   \n",
       "std           0.652306             17.594721      50.535790   \n",
       "min           0.000000              0.000000      -6.380000   \n",
       "25%           0.000000              0.000000      69.290000   \n",
       "50%           0.000000              0.000000      94.575000   \n",
       "75%           0.000000              0.000000     126.000000   \n",
       "max          21.000000            391.000000    5400.000000   \n",
       "\n",
       "       required_car_parking_spaces  total_of_special_requests  \n",
       "count                119390.000000              119390.000000  \n",
       "mean                      0.062518                   0.571363  \n",
       "std                       0.245291                   0.792798  \n",
       "min                       0.000000                   0.000000  \n",
       "25%                       0.000000                   0.000000  \n",
       "50%                       0.000000                   0.000000  \n",
       "75%                       0.000000                   1.000000  \n",
       "max                       8.000000                   5.000000  "
      ]
     },
     "execution_count": 246,
     "metadata": {},
     "output_type": "execute_result"
    }
   ],
   "source": [
    "hotel_bookings_transform_non_categorical.describe()"
   ]
  },
  {
   "cell_type": "code",
   "execution_count": 252,
   "metadata": {},
   "outputs": [
    {
     "data": {
      "text/plain": [
       "0    0.664461\n",
       "1    0.335539\n",
       "Name: hotel, dtype: float64"
      ]
     },
     "execution_count": 252,
     "metadata": {},
     "output_type": "execute_result"
    }
   ],
   "source": [
    "#Percentage by hotel\n",
    "hotel_bookings_transform_categorical['hotel'].value_counts()/hotel_bookings_transform_categorical['hotel'].count()"
   ]
  },
  {
   "cell_type": "code",
   "execution_count": 253,
   "metadata": {},
   "outputs": [
    {
     "data": {
      "text/plain": [
       "6    0.473063\n",
       "5    0.202856\n",
       "4    0.165935\n",
       "3    0.105587\n",
       "2    0.044350\n",
       "1    0.006223\n",
       "0    0.001985\n",
       "Name: market_segment, dtype: float64"
      ]
     },
     "execution_count": 253,
     "metadata": {},
     "output_type": "execute_result"
    }
   ],
   "source": [
    "#Percentage by hotel\n",
    "hotel_bookings_transform_categorical['market_segment'].value_counts()/hotel_bookings_transform_categorical['market_segment'].count()"
   ]
  },
  {
   "cell_type": "code",
   "execution_count": 255,
   "metadata": {},
   "outputs": [
    {
     "data": {
      "text/plain": [
       "0    0.773180\n",
       "2    0.121141\n",
       "3    0.098995\n",
       "1    0.006684\n",
       "Name: meal, dtype: float64"
      ]
     },
     "execution_count": 255,
     "metadata": {},
     "output_type": "execute_result"
    }
   ],
   "source": [
    "#Percentage by meal\n",
    "hotel_bookings_transform_categorical['meal'].value_counts()/hotel_bookings_transform_categorical['meal'].count()"
   ]
  },
  {
   "cell_type": "code",
   "execution_count": 256,
   "metadata": {},
   "outputs": [
    {
     "data": {
      "text/plain": [
       "1    0.629584\n",
       "0    0.360307\n",
       "2    0.010110\n",
       "Name: reservation_status, dtype: float64"
      ]
     },
     "execution_count": 256,
     "metadata": {},
     "output_type": "execute_result"
    }
   ],
   "source": [
    "#Percentage by reservation status\n",
    "hotel_bookings_transform_categorical['reservation_status'].value_counts()/hotel_bookings_transform_categorical['reservation_status'].count()"
   ]
  },
  {
   "cell_type": "code",
   "execution_count": 257,
   "metadata": {},
   "outputs": [
    {
     "data": {
      "text/plain": [
       "3    0.819792\n",
       "1    0.122665\n",
       "0    0.055926\n",
       "2    0.001617\n",
       "Name: distribution_channel, dtype: float64"
      ]
     },
     "execution_count": 257,
     "metadata": {},
     "output_type": "execute_result"
    }
   ],
   "source": [
    "#Percentage by reservation status\n",
    "hotel_bookings_transform_categorical['distribution_channel'].value_counts()/hotel_bookings_transform_categorical['distribution_channel'].count()"
   ]
  },
  {
   "cell_type": "code",
   "execution_count": 258,
   "metadata": {},
   "outputs": [
    {
     "data": {
      "text/plain": [
       "0    0.720278\n",
       "3    0.160826\n",
       "4    0.054737\n",
       "5    0.024265\n",
       "6    0.017539\n",
       "1    0.009364\n",
       "2    0.007806\n",
       "7    0.005034\n",
       "9    0.000101\n",
       "8    0.000050\n",
       "Name: reserved_room_type, dtype: float64"
      ]
     },
     "execution_count": 258,
     "metadata": {},
     "output_type": "execute_result"
    }
   ],
   "source": [
    "#Percentage by reservation roomtype\n",
    "hotel_bookings_transform_categorical['reserved_room_type'].value_counts()/hotel_bookings_transform_categorical['reserved_room_type'].count()"
   ]
  },
  {
   "cell_type": "code",
   "execution_count": 19,
   "metadata": {},
   "outputs": [
    {
     "data": {
      "text/plain": [
       "0     0.620261\n",
       "3     0.212095\n",
       "4     0.065382\n",
       "5     0.031418\n",
       "6     0.021384\n",
       "2     0.019893\n",
       "1     0.018117\n",
       "7     0.005964\n",
       "8     0.003040\n",
       "9     0.002337\n",
       "11    0.000101\n",
       "10    0.000008\n",
       "Name: assigned_room_type, dtype: float64"
      ]
     },
     "execution_count": 19,
     "metadata": {},
     "output_type": "execute_result"
    }
   ],
   "source": [
    "#Percentage by assigned_room_type\n",
    "hotel_bookings_transform_categorical['assigned_room_type'].value_counts()/hotel_bookings_transform_categorical['assigned_room_type'].count()"
   ]
  },
  {
   "cell_type": "code",
   "execution_count": 20,
   "metadata": {},
   "outputs": [
    {
     "data": {
      "text/plain": [
       "0    0.876464\n",
       "1    0.122179\n",
       "2    0.001357\n",
       "Name: deposit_type, dtype: float64"
      ]
     },
     "execution_count": 20,
     "metadata": {},
     "output_type": "execute_result"
    }
   ],
   "source": [
    "#Percentage by deposit_type\n",
    "hotel_bookings_transform_categorical['deposit_type'].value_counts()/hotel_bookings_transform_categorical['deposit_type'].count()"
   ]
  },
  {
   "cell_type": "code",
   "execution_count": 21,
   "metadata": {},
   "outputs": [
    {
     "data": {
      "text/plain": [
       "PRT    0.411073\n",
       "GBR    0.101591\n",
       "FRA    0.087235\n",
       "ESP    0.071765\n",
       "DEU    0.061035\n",
       "         ...   \n",
       "MDG    0.000008\n",
       "DMA    0.000008\n",
       "SMR    0.000008\n",
       "ASM    0.000008\n",
       "AIA    0.000008\n",
       "Name: country, Length: 177, dtype: float64"
      ]
     },
     "execution_count": 21,
     "metadata": {},
     "output_type": "execute_result"
    }
   ],
   "source": [
    "#Percentange by country\n",
    "hotel_bookings_transform_categorical['country'].value_counts()/hotel_bookings_transform_categorical['country'].count()"
   ]
  },
  {
   "cell_type": "code",
   "execution_count": 22,
   "metadata": {},
   "outputs": [
    {
     "data": {
      "text/plain": [
       "2    0.750591\n",
       "3    0.210436\n",
       "0    0.034140\n",
       "1    0.004833\n",
       "Name: customer_type, dtype: float64"
      ]
     },
     "execution_count": 22,
     "metadata": {},
     "output_type": "execute_result"
    }
   ],
   "source": [
    "#Percentage by customer_type\n",
    "hotel_bookings_transform_categorical['customer_type'].value_counts()/hotel_bookings_transform_categorical['customer_type'].count()"
   ]
  },
  {
   "cell_type": "code",
   "execution_count": 28,
   "metadata": {},
   "outputs": [
    {
     "data": {
      "text/plain": [
       "count    1138.000000\n",
       "mean      290.785571\n",
       "std       154.793763\n",
       "min       253.490000\n",
       "25%       263.000000\n",
       "50%       276.600000\n",
       "75%       300.000000\n",
       "max      5400.000000\n",
       "Name: adr, dtype: float64"
      ]
     },
     "execution_count": 28,
     "metadata": {},
     "output_type": "execute_result"
    }
   ],
   "source": [
    "from scipy import stats\n",
    "#outlier adr\n",
    "adr = hotel_bookings_transform[(np.abs(stats.zscore(hotel_bookings_transform[['adr']])) > 3).all(axis=1)]['adr']\n",
    "adr.describe()"
   ]
  },
  {
   "cell_type": "code",
   "execution_count": 29,
   "metadata": {},
   "outputs": [
    {
     "data": {
      "text/plain": [
       "count    1454.000000\n",
       "mean      492.008253\n",
       "std        57.785111\n",
       "min       426.000000\n",
       "25%       451.000000\n",
       "50%       468.000000\n",
       "75%       521.000000\n",
       "max       737.000000\n",
       "Name: lead_time, dtype: float64"
      ]
     },
     "execution_count": 29,
     "metadata": {},
     "output_type": "execute_result"
    }
   ],
   "source": [
    "#outliers lead_time\n",
    "hotel_bookings_transform[(np.abs(stats.zscore(hotel_bookings_transform[['lead_time']])) > 3).all(axis=1)]['lead_time'].describe()"
   ]
  },
  {
   "cell_type": "code",
   "execution_count": 30,
   "metadata": {
    "scrolled": true
   },
   "outputs": [
    {
     "data": {
      "text/plain": [
       "count    481.000000\n",
       "mean       1.336798\n",
       "std        5.220440\n",
       "min        0.000000\n",
       "25%        0.000000\n",
       "50%        0.000000\n",
       "75%        0.000000\n",
       "max       55.000000\n",
       "Name: adults, dtype: float64"
      ]
     },
     "execution_count": 30,
     "metadata": {},
     "output_type": "execute_result"
    }
   ],
   "source": [
    "#outliers adults\n",
    "hotel_bookings_transform[(np.abs(stats.zscore(hotel_bookings_transform[['adults']])) > 3).all(axis=1)]['adults'].describe()"
   ]
  },
  {
   "cell_type": "code",
   "execution_count": 31,
   "metadata": {},
   "outputs": [
    {
     "data": {
      "text/plain": [
       "count    317.000000\n",
       "mean      12.990536\n",
       "std        9.072313\n",
       "min        3.000000\n",
       "25%        4.000000\n",
       "50%       11.000000\n",
       "75%       24.000000\n",
       "max       26.000000\n",
       "Name: previous_cancellations, dtype: float64"
      ]
     },
     "execution_count": 31,
     "metadata": {},
     "output_type": "execute_result"
    }
   ],
   "source": [
    "#outliers previous cancelation\n",
    "hotel_bookings_transform[(np.abs(stats.zscore(hotel_bookings_transform[['previous_cancellations']])) > 3).all(axis=1)]['previous_cancellations'].describe()"
   ]
  },
  {
   "cell_type": "code",
   "execution_count": 32,
   "metadata": {},
   "outputs": [
    {
     "data": {
      "text/plain": [
       "count    1570.000000\n",
       "mean        3.878344\n",
       "std         1.803220\n",
       "min         3.000000\n",
       "25%         3.000000\n",
       "50%         3.000000\n",
       "75%         4.000000\n",
       "max        21.000000\n",
       "Name: booking_changes, dtype: float64"
      ]
     },
     "execution_count": 32,
     "metadata": {},
     "output_type": "execute_result"
    }
   ],
   "source": [
    "#outliers booking_changes\n",
    "hotel_bookings_transform[(np.abs(stats.zscore(hotel_bookings_transform[['booking_changes']])) > 3).all(axis=1)]['booking_changes'].describe()"
   ]
  },
  {
   "cell_type": "code",
   "execution_count": 34,
   "metadata": {},
   "outputs": [
    {
     "data": {
      "text/plain": [
       "count    1871.000000\n",
       "mean      116.130412\n",
       "std        73.437587\n",
       "min        56.000000\n",
       "25%        65.000000\n",
       "50%        91.000000\n",
       "75%       147.000000\n",
       "max       391.000000\n",
       "Name: days_in_waiting_list, dtype: float64"
      ]
     },
     "execution_count": 34,
     "metadata": {},
     "output_type": "execute_result"
    }
   ],
   "source": [
    "#outliers days_in_waiting_list\n",
    "hotel_bookings_transform[(np.abs(stats.zscore(hotel_bookings_transform[['days_in_waiting_list']])) > 3).all(axis=1)]['days_in_waiting_list'].describe()"
   ]
  },
  {
   "cell_type": "code",
   "execution_count": 35,
   "metadata": {},
   "outputs": [
    {
     "data": {
      "text/plain": [
       "count    2877.000000\n",
       "mean        3.145985\n",
       "std         0.390555\n",
       "min         3.000000\n",
       "25%         3.000000\n",
       "50%         3.000000\n",
       "75%         3.000000\n",
       "max         5.000000\n",
       "Name: total_of_special_requests, dtype: float64"
      ]
     },
     "execution_count": 35,
     "metadata": {},
     "output_type": "execute_result"
    }
   ],
   "source": [
    "#outliers total of special requests\n",
    "hotel_bookings_transform[(np.abs(stats.zscore(hotel_bookings_transform[['total_of_special_requests']])) > 3).all(axis=1)]['total_of_special_requests'].describe()"
   ]
  },
  {
   "cell_type": "code",
   "execution_count": 38,
   "metadata": {},
   "outputs": [
    {
     "data": {
      "text/plain": [
       "count    7416.000000\n",
       "mean        1.006472\n",
       "std         0.136268\n",
       "min         1.000000\n",
       "25%         1.000000\n",
       "50%         1.000000\n",
       "75%         1.000000\n",
       "max         8.000000\n",
       "Name: required_car_parking_spaces, dtype: float64"
      ]
     },
     "execution_count": 38,
     "metadata": {},
     "output_type": "execute_result"
    }
   ],
   "source": [
    "#outliers required car parking spaces\n",
    "hotel_bookings_transform[(np.abs(stats.zscore(hotel_bookings_transform[['required_car_parking_spaces']])) > 3).all(axis=1)]['required_car_parking_spaces'].describe()"
   ]
  },
  {
   "cell_type": "code",
   "execution_count": 5,
   "metadata": {},
   "outputs": [
    {
     "name": "stderr",
     "output_type": "stream",
     "text": [
      "/opt/anaconda3/lib/python3.8/site-packages/statsmodels/discrete/discrete_model.py:1799: RuntimeWarning: overflow encountered in exp\n",
      "  return 1/(1+np.exp(-X))\n"
     ]
    },
    {
     "name": "stdout",
     "output_type": "stream",
     "text": [
      "Optimization terminated successfully.\n",
      "         Current function value: 0.520979\n",
      "         Iterations 16\n"
     ]
    },
    {
     "data": {
      "text/html": [
       "<table class=\"simpletable\">\n",
       "<tr>\n",
       "        <td>Model:</td>              <td>Logit</td>      <td>Pseudo R-squared:</td>    <td>0.210</td>   \n",
       "</tr>\n",
       "<tr>\n",
       "  <td>Dependent Variable:</td>    <td>is_canceled</td>         <td>AIC:</td>        <td>124433.3344</td>\n",
       "</tr>\n",
       "<tr>\n",
       "         <td>Date:</td>        <td>2021-01-22 19:15</td>       <td>BIC:</td>        <td>124598.0670</td>\n",
       "</tr>\n",
       "<tr>\n",
       "   <td>No. Observations:</td>       <td>119390</td>       <td>Log-Likelihood:</td>    <td>-62200.</td>  \n",
       "</tr>\n",
       "<tr>\n",
       "       <td>Df Model:</td>             <td>16</td>            <td>LL-Null:</td>        <td>-78699.</td>  \n",
       "</tr>\n",
       "<tr>\n",
       "     <td>Df Residuals:</td>         <td>119373</td>        <td>LLR p-value:</td>      <td>0.0000</td>   \n",
       "</tr>\n",
       "<tr>\n",
       "      <td>Converged:</td>           <td>1.0000</td>           <td>Scale:</td>         <td>1.0000</td>   \n",
       "</tr>\n",
       "<tr>\n",
       "    <td>No. Iterations:</td>        <td>16.0000</td>             <td></td>               <td></td>      \n",
       "</tr>\n",
       "</table>\n",
       "<table class=\"simpletable\">\n",
       "<tr>\n",
       "                 <td></td>                  <th>Coef.</th>                     <th>Std.Err.</th>                       <th>z</th>     <th>P>|z|</th>                    <th>[0.025</th>                                        <th>0.975]</th>                   \n",
       "</tr>\n",
       "<tr>\n",
       "  <th>const</th>                          <td>-453.5339</td>                    <td>26.2910</td>                   <td>-17.2505</td> <td>0.0000</td>                   <td>-505.0634</td>                                     <td>-402.0045</td>                 \n",
       "</tr>\n",
       "<tr>\n",
       "  <th>arrival_date_year</th>               <td>0.2243</td>                      <td>0.0130</td>                     <td>17.2028</td> <td>0.0000</td>                    <td>0.1987</td>                                        <td>0.2498</td>                   \n",
       "</tr>\n",
       "<tr>\n",
       "  <th>lead_time</th>                       <td>0.0047</td>                      <td>0.0001</td>                     <td>63.2464</td> <td>0.0000</td>                    <td>0.0045</td>                                        <td>0.0048</td>                   \n",
       "</tr>\n",
       "<tr>\n",
       "  <th>arrival_date_week_number</th>        <td>-0.0022</td>                     <td>0.0007</td>                     <td>-3.3023</td> <td>0.0010</td>                    <td>-0.0035</td>                                       <td>-0.0009</td>                  \n",
       "</tr>\n",
       "<tr>\n",
       "  <th>stays_in_weekend_nights</th>         <td>-0.0180</td>                     <td>0.0079</td>                     <td>-2.2696</td> <td>0.0232</td>                    <td>-0.0335</td>                                       <td>-0.0025</td>                  \n",
       "</tr>\n",
       "<tr>\n",
       "  <th>arrival_date_day_of_month</th>       <td>-0.0009</td>                     <td>0.0008</td>                     <td>-1.1236</td> <td>0.2612</td>                    <td>-0.0024</td>                                       <td>0.0007</td>                   \n",
       "</tr>\n",
       "<tr>\n",
       "  <th>stays_in_week_nights</th>            <td>0.0117</td>                      <td>0.0042</td>                     <td>2.7742</td>  <td>0.0055</td>                    <td>0.0034</td>                                        <td>0.0199</td>                   \n",
       "</tr>\n",
       "<tr>\n",
       "  <th>adults</th>                          <td>0.1046</td>                      <td>0.0146</td>                     <td>7.1810</td>  <td>0.0000</td>                    <td>0.0761</td>                                        <td>0.1332</td>                   \n",
       "</tr>\n",
       "<tr>\n",
       "  <th>babies</th>                          <td>0.1525</td>                      <td>0.0817</td>                     <td>1.8656</td>  <td>0.0621</td>                    <td>-0.0077</td>                                       <td>0.3127</td>                   \n",
       "</tr>\n",
       "<tr>\n",
       "  <th>is_repeated_guest</th>               <td>-1.1605</td>                     <td>0.0837</td>                    <td>-13.8609</td> <td>0.0000</td>                    <td>-1.3246</td>                                       <td>-0.9964</td>                  \n",
       "</tr>\n",
       "<tr>\n",
       "  <th>previous_cancellations</th>          <td>3.1272</td>                      <td>0.0568</td>                     <td>55.0231</td> <td>0.0000</td>                    <td>3.0158</td>                                        <td>3.2386</td>                   \n",
       "</tr>\n",
       "<tr>\n",
       "  <th>previous_bookings_not_canceled</th>  <td>-0.5969</td>                     <td>0.0260</td>                    <td>-22.9785</td> <td>0.0000</td>                    <td>-0.6478</td>                                       <td>-0.5460</td>                  \n",
       "</tr>\n",
       "<tr>\n",
       "  <th>booking_changes</th>                 <td>-0.6717</td>                     <td>0.0159</td>                    <td>-42.1633</td> <td>0.0000</td>                    <td>-0.7029</td>                                       <td>-0.6405</td>                  \n",
       "</tr>\n",
       "<tr>\n",
       "  <th>days_in_waiting_list</th>            <td>-0.0010</td>                     <td>0.0004</td>                     <td>-2.6478</td> <td>0.0081</td>                    <td>-0.0017</td>                                       <td>-0.0003</td>                  \n",
       "</tr>\n",
       "<tr>\n",
       "  <th>adr</th>                             <td>0.0063</td>                      <td>0.0002</td>                     <td>37.8953</td> <td>0.0000</td>                    <td>0.0060</td>                                        <td>0.0066</td>                   \n",
       "</tr>\n",
       "<tr>\n",
       "  <th>required_car_parking_spaces</th>    <td>-210.9663</td> <td>451932750534812606649310829194982195200.0000</td>  <td>-0.0000</td> <td>1.0000</td> <td>-885771914482357624053482413659567161344.0000</td> <td>885771914482357624053482413659567161344.0000</td>\n",
       "</tr>\n",
       "<tr>\n",
       "  <th>total_of_special_requests</th>       <td>-0.7319</td>                     <td>0.0105</td>                    <td>-69.9847</td> <td>0.0000</td>                    <td>-0.7524</td>                                       <td>-0.7114</td>                  \n",
       "</tr>\n",
       "</table>"
      ],
      "text/plain": [
       "<class 'statsmodels.iolib.summary2.Summary'>\n",
       "\"\"\"\n",
       "                                                                                         Results: Logit\n",
       "================================================================================================================================================================================================\n",
       "Model:                                                        Logit                                                      Pseudo R-squared:                                           0.210      \n",
       "Dependent Variable:                                           is_canceled                                                AIC:                                                        124433.3344\n",
       "Date:                                                         2021-01-22 19:15                                           BIC:                                                        124598.0670\n",
       "No. Observations:                                             119390                                                     Log-Likelihood:                                             -62200.    \n",
       "Df Model:                                                     16                                                         LL-Null:                                                    -78699.    \n",
       "Df Residuals:                                                 119373                                                     LLR p-value:                                                0.0000     \n",
       "Converged:                                                    1.0000                                                     Scale:                                                      1.0000     \n",
       "No. Iterations:                                               16.0000                                                                                                                           \n",
       "------------------------------------------------------------------------------------------------------------------------------------------------------------------------------------------------\n",
       "                                 Coef.                     Std.Err.                      z     P>|z|                      [0.025                                       0.975]                   \n",
       "------------------------------------------------------------------------------------------------------------------------------------------------------------------------------------------------\n",
       "const                          -453.5339                                      26.2910 -17.2505 0.0000                                     -505.0634                                    -402.0045\n",
       "arrival_date_year                 0.2243                                       0.0130  17.2028 0.0000                                        0.1987                                       0.2498\n",
       "lead_time                         0.0047                                       0.0001  63.2464 0.0000                                        0.0045                                       0.0048\n",
       "arrival_date_week_number         -0.0022                                       0.0007  -3.3023 0.0010                                       -0.0035                                      -0.0009\n",
       "stays_in_weekend_nights          -0.0180                                       0.0079  -2.2696 0.0232                                       -0.0335                                      -0.0025\n",
       "arrival_date_day_of_month        -0.0009                                       0.0008  -1.1236 0.2612                                       -0.0024                                       0.0007\n",
       "stays_in_week_nights              0.0117                                       0.0042   2.7742 0.0055                                        0.0034                                       0.0199\n",
       "adults                            0.1046                                       0.0146   7.1810 0.0000                                        0.0761                                       0.1332\n",
       "babies                            0.1525                                       0.0817   1.8656 0.0621                                       -0.0077                                       0.3127\n",
       "is_repeated_guest                -1.1605                                       0.0837 -13.8609 0.0000                                       -1.3246                                      -0.9964\n",
       "previous_cancellations            3.1272                                       0.0568  55.0231 0.0000                                        3.0158                                       3.2386\n",
       "previous_bookings_not_canceled   -0.5969                                       0.0260 -22.9785 0.0000                                       -0.6478                                      -0.5460\n",
       "booking_changes                  -0.6717                                       0.0159 -42.1633 0.0000                                       -0.7029                                      -0.6405\n",
       "days_in_waiting_list             -0.0010                                       0.0004  -2.6478 0.0081                                       -0.0017                                      -0.0003\n",
       "adr                               0.0063                                       0.0002  37.8953 0.0000                                        0.0060                                       0.0066\n",
       "required_car_parking_spaces    -210.9663 451932750534812606649310829194982195200.0000  -0.0000 1.0000 -885771914482357624053482413659567161344.0000 885771914482357624053482413659567161344.0000\n",
       "total_of_special_requests        -0.7319                                       0.0105 -69.9847 0.0000                                       -0.7524                                      -0.7114\n",
       "================================================================================================================================================================================================\n",
       "\n",
       "\"\"\""
      ]
     },
     "execution_count": 5,
     "metadata": {},
     "output_type": "execute_result"
    }
   ],
   "source": [
    "## import statsmodels.api as sm\n",
    "\n",
    "hotel_bookings['hotel'] = hotel_bookings['hotel'].astype('category')\n",
    "hotel_bookings['arrival_date_month'] = hotel_bookings['arrival_date_month'].astype('category')\n",
    "\n",
    "Xtrain = hotel_bookings[['lead_time','arrival_date_year','arrival_date_month','arrival_date_week_number','stays_in_weekend_nights','stays_in_week_nights']]\n",
    "\n",
    "Ytrain = hotel_bookings[['is_canceled']]\n",
    "\n",
    "#hotel, arrival_date_month change to category\n",
    "#replace nans of children\n",
    "\n",
    "\n",
    "# <class 'pandas.core.frame.DataFrame'>\n",
    "# RangeIndex: 119390 entries, 0 to 119389\n",
    "# Data columns (total 32 columns):\n",
    "#  #   Column                          Non-Null Count   Dtype  \n",
    "# ---  ------                          --------------   -----  \n",
    "#  0   hotel                           119390 non-null  object \n",
    "#  1   is_canceled                     119390 non-null  int64  \n",
    "#  2   lead_time                       119390 non-null  int64  \n",
    "#  3   arrival_date_year               119390 non-null  int64  \n",
    "#  4   arrival_date_month              119390 non-null  object \n",
    "#  5   arrival_date_week_number        119390 non-null  int64  \n",
    "#  6   arrival_date_day_of_month       119390 non-null  int64  \n",
    "#  7   stays_in_weekend_nights         119390 non-null  int64  \n",
    "#  8   stays_in_week_nights            119390 non-null  int64  \n",
    "#  9   adults                          119390 non-null  int64  \n",
    "#  10  children                        119386 non-null  float64\n",
    "#  11  babies                          119390 non-null  int64  \n",
    "#  12  meal                            119390 non-null  object \n",
    "#  13  country                         118902 non-null  object \n",
    "#  14  market_segment                  119390 non-null  object \n",
    "#  15  distribution_channel            119390 non-null  object \n",
    "#  16  is_repeated_guest               119390 non-null  int64  \n",
    "#  17  previous_cancellations          119390 non-null  int64  \n",
    "#  18  previous_bookings_not_canceled  119390 non-null  int64  \n",
    "#  19  reserved_room_type              119390 non-null  object \n",
    "#  20  assigned_room_type              119390 non-null  object \n",
    "#  21  booking_changes                 119390 non-null  int64  \n",
    "#  22  deposit_type                    119390 non-null  object \n",
    "#  23  agent                           103050 non-null  float64\n",
    "#  24  company                         6797 non-null    float64\n",
    "#  25  days_in_waiting_list            119390 non-null  int64  \n",
    "#  26  customer_type                   119390 non-null  object \n",
    "#  27  adr                             119390 non-null  float64\n",
    "#  28  required_car_parking_spaces     119390 non-null  int64  \n",
    "#  29  total_of_special_requests       119390 non-null  int64  \n",
    "#  30  reservation_status              119390 non-null  object \n",
    "#  31  reservation_status_date         119390 non-null  object \n",
    "# dtypes: float64(4), int64(16), object(12)\n",
    "# memory usage: 29.1+ MB\n",
    "\n",
    "#hotel encode\n",
    "#arrival_date_month\n",
    "#customer type encoded\n",
    "#reservation_status encoded\n",
    "#reservation_status_date \n",
    "\n",
    "#replace agent with binary value\n",
    "#replace company with binary value\n",
    "\n",
    "\n",
    "\n",
    "log_reg = sm.Logit(hotel_bookings['is_canceled'], sm.add_constant(hotel_bookings[['arrival_date_year']+['lead_time']\n",
    "                                                                                 +['arrival_date_week_number']\n",
    "                                                                                 +['stays_in_weekend_nights']\n",
    "                                                                                 +['arrival_date_day_of_month']\n",
    "                                                                                 +['stays_in_week_nights']\n",
    "                                                                                 +['adults']+['babies']\n",
    "                                                                                 +['is_repeated_guest']\n",
    "                                                                                 +['previous_cancellations']\n",
    "                                                                                 +['previous_bookings_not_canceled']\n",
    "                                                                                 +['booking_changes']\n",
    "                                                                                +['days_in_waiting_list']\n",
    "                                                                                 +['adr']\n",
    "                                                                                 +['required_car_parking_spaces']\n",
    "                                                                                 +['total_of_special_requests']\n",
    "                                                                                ])).fit()\n",
    "\n",
    "log_reg.summary2()\n",
    "#hotel_bookings.info()\n",
    "\n",
    "\n",
    "#log_reg.aic\n",
    "\n",
    "\n",
    "\n",
    "\n",
    "\n"
   ]
  },
  {
   "cell_type": "code",
   "execution_count": 4,
   "metadata": {},
   "outputs": [
    {
     "name": "stdout",
     "output_type": "stream",
     "text": [
      "Optimization terminated successfully.\n",
      "         Current function value: 0.541658\n",
      "         Iterations 17\n"
     ]
    },
    {
     "data": {
      "text/html": [
       "<table class=\"simpletable\">\n",
       "<tr>\n",
       "        <td>Model:</td>              <td>Logit</td>      <td>Pseudo R-squared:</td>    <td>0.178</td>   \n",
       "</tr>\n",
       "<tr>\n",
       "  <td>Dependent Variable:</td>    <td>is_canceled</td>         <td>AIC:</td>        <td>129369.0865</td>\n",
       "</tr>\n",
       "<tr>\n",
       "         <td>Date:</td>        <td>2021-01-22 18:51</td>       <td>BIC:</td>        <td>129524.1289</td>\n",
       "</tr>\n",
       "<tr>\n",
       "   <td>No. Observations:</td>       <td>119390</td>       <td>Log-Likelihood:</td>    <td>-64669.</td>  \n",
       "</tr>\n",
       "<tr>\n",
       "       <td>Df Model:</td>             <td>15</td>            <td>LL-Null:</td>        <td>-78699.</td>  \n",
       "</tr>\n",
       "<tr>\n",
       "     <td>Df Residuals:</td>         <td>119374</td>        <td>LLR p-value:</td>      <td>0.0000</td>   \n",
       "</tr>\n",
       "<tr>\n",
       "      <td>Converged:</td>           <td>1.0000</td>           <td>Scale:</td>         <td>1.0000</td>   \n",
       "</tr>\n",
       "<tr>\n",
       "    <td>No. Iterations:</td>        <td>17.0000</td>             <td></td>               <td></td>      \n",
       "</tr>\n",
       "</table>\n",
       "<table class=\"simpletable\">\n",
       "<tr>\n",
       "                 <td></td>                  <th>Coef.</th>   <th>Std.Err.</th>     <th>z</th>     <th>P>|z|</th>  <th>[0.025</th>    <th>0.975]</th>  \n",
       "</tr>\n",
       "<tr>\n",
       "  <th>const</th>                          <td>-504.6635</td>  <td>25.8052</td> <td>-19.5567</td> <td>0.0000</td> <td>-555.2407</td> <td>-454.0863</td>\n",
       "</tr>\n",
       "<tr>\n",
       "  <th>arrival_date_year</th>               <td>0.2497</td>    <td>0.0128</td>   <td>19.5091</td> <td>0.0000</td>  <td>0.2246</td>    <td>0.2747</td>  \n",
       "</tr>\n",
       "<tr>\n",
       "  <th>lead_time</th>                       <td>0.0049</td>    <td>0.0001</td>   <td>67.2802</td> <td>0.0000</td>  <td>0.0048</td>    <td>0.0050</td>  \n",
       "</tr>\n",
       "<tr>\n",
       "  <th>arrival_date_week_number</th>        <td>-0.0016</td>   <td>0.0007</td>   <td>-2.5336</td> <td>0.0113</td>  <td>-0.0029</td>   <td>-0.0004</td> \n",
       "</tr>\n",
       "<tr>\n",
       "  <th>stays_in_weekend_nights</th>         <td>-0.0146</td>   <td>0.0078</td>   <td>-1.8715</td> <td>0.0613</td>  <td>-0.0299</td>   <td>0.0007</td>  \n",
       "</tr>\n",
       "<tr>\n",
       "  <th>arrival_date_day_of_month</th>       <td>-0.0012</td>   <td>0.0008</td>   <td>-1.5157</td> <td>0.1296</td>  <td>-0.0027</td>   <td>0.0003</td>  \n",
       "</tr>\n",
       "<tr>\n",
       "  <th>stays_in_week_nights</th>            <td>0.0123</td>    <td>0.0041</td>   <td>2.9767</td>  <td>0.0029</td>  <td>0.0042</td>    <td>0.0205</td>  \n",
       "</tr>\n",
       "<tr>\n",
       "  <th>adults</th>                          <td>0.0823</td>    <td>0.0141</td>   <td>5.8377</td>  <td>0.0000</td>  <td>0.0547</td>    <td>0.1099</td>  \n",
       "</tr>\n",
       "<tr>\n",
       "  <th>babies</th>                          <td>0.0725</td>    <td>0.0827</td>   <td>0.8774</td>  <td>0.3803</td>  <td>-0.0895</td>   <td>0.2346</td>  \n",
       "</tr>\n",
       "<tr>\n",
       "  <th>is_repeated_guest</th>               <td>-1.2084</td>   <td>0.0810</td>  <td>-14.9253</td> <td>0.0000</td>  <td>-1.3671</td>   <td>-1.0497</td> \n",
       "</tr>\n",
       "<tr>\n",
       "  <th>previous_cancellations</th>          <td>3.1168</td>    <td>0.0550</td>   <td>56.7192</td> <td>0.0000</td>  <td>3.0091</td>    <td>3.2245</td>  \n",
       "</tr>\n",
       "<tr>\n",
       "  <th>previous_bookings_not_canceled</th>  <td>-0.6210</td>   <td>0.0260</td>  <td>-23.8947</td> <td>0.0000</td>  <td>-0.6719</td>   <td>-0.5701</td> \n",
       "</tr>\n",
       "<tr>\n",
       "  <th>booking_changes</th>                 <td>-0.7095</td>   <td>0.0158</td>  <td>-44.9028</td> <td>0.0000</td>  <td>-0.7404</td>   <td>-0.6785</td> \n",
       "</tr>\n",
       "<tr>\n",
       "  <th>days_in_waiting_list</th>            <td>-0.0007</td>   <td>0.0004</td>   <td>-1.8608</td> <td>0.0628</td>  <td>-0.0014</td>   <td>0.0000</td>  \n",
       "</tr>\n",
       "<tr>\n",
       "  <th>adr</th>                             <td>0.0054</td>    <td>0.0002</td>   <td>34.3242</td> <td>0.0000</td>  <td>0.0051</td>    <td>0.0058</td>  \n",
       "</tr>\n",
       "<tr>\n",
       "  <th>total_of_special_requests</th>       <td>-0.7412</td>   <td>0.0103</td>  <td>-71.7837</td> <td>0.0000</td>  <td>-0.7615</td>   <td>-0.7210</td> \n",
       "</tr>\n",
       "</table>"
      ],
      "text/plain": [
       "<class 'statsmodels.iolib.summary2.Summary'>\n",
       "\"\"\"\n",
       "                                   Results: Logit\n",
       "=====================================================================================\n",
       "Model:                     Logit                  Pseudo R-squared:       0.178      \n",
       "Dependent Variable:        is_canceled            AIC:                    129369.0865\n",
       "Date:                      2021-01-22 18:51       BIC:                    129524.1289\n",
       "No. Observations:          119390                 Log-Likelihood:         -64669.    \n",
       "Df Model:                  15                     LL-Null:                -78699.    \n",
       "Df Residuals:              119374                 LLR p-value:            0.0000     \n",
       "Converged:                 1.0000                 Scale:                  1.0000     \n",
       "No. Iterations:            17.0000                                                   \n",
       "-------------------------------------------------------------------------------------\n",
       "                                 Coef.   Std.Err.    z     P>|z|    [0.025    0.975] \n",
       "-------------------------------------------------------------------------------------\n",
       "const                          -504.6635  25.8052 -19.5567 0.0000 -555.2407 -454.0863\n",
       "arrival_date_year                 0.2497   0.0128  19.5091 0.0000    0.2246    0.2747\n",
       "lead_time                         0.0049   0.0001  67.2802 0.0000    0.0048    0.0050\n",
       "arrival_date_week_number         -0.0016   0.0007  -2.5336 0.0113   -0.0029   -0.0004\n",
       "stays_in_weekend_nights          -0.0146   0.0078  -1.8715 0.0613   -0.0299    0.0007\n",
       "arrival_date_day_of_month        -0.0012   0.0008  -1.5157 0.1296   -0.0027    0.0003\n",
       "stays_in_week_nights              0.0123   0.0041   2.9767 0.0029    0.0042    0.0205\n",
       "adults                            0.0823   0.0141   5.8377 0.0000    0.0547    0.1099\n",
       "babies                            0.0725   0.0827   0.8774 0.3803   -0.0895    0.2346\n",
       "is_repeated_guest                -1.2084   0.0810 -14.9253 0.0000   -1.3671   -1.0497\n",
       "previous_cancellations            3.1168   0.0550  56.7192 0.0000    3.0091    3.2245\n",
       "previous_bookings_not_canceled   -0.6210   0.0260 -23.8947 0.0000   -0.6719   -0.5701\n",
       "booking_changes                  -0.7095   0.0158 -44.9028 0.0000   -0.7404   -0.6785\n",
       "days_in_waiting_list             -0.0007   0.0004  -1.8608 0.0628   -0.0014    0.0000\n",
       "adr                               0.0054   0.0002  34.3242 0.0000    0.0051    0.0058\n",
       "total_of_special_requests        -0.7412   0.0103 -71.7837 0.0000   -0.7615   -0.7210\n",
       "=====================================================================================\n",
       "\n",
       "\"\"\""
      ]
     },
     "execution_count": 4,
     "metadata": {},
     "output_type": "execute_result"
    }
   ],
   "source": [
    "log_reg = sm.Logit(hotel_bookings['is_canceled'], sm.add_constant(hotel_bookings[['arrival_date_year']+['lead_time']\n",
    "                                                                                 +['arrival_date_week_number']\n",
    "                                                                                 +['stays_in_weekend_nights']\n",
    "                                                                                 +['arrival_date_day_of_month']\n",
    "                                                                                 +['stays_in_week_nights']\n",
    "                                                                                 +['adults']+['babies']\n",
    "                                                                                 +['is_repeated_guest']\n",
    "                                                                                 +['previous_cancellations']\n",
    "                                                                                 +['previous_bookings_not_canceled']\n",
    "                                                                                 +['booking_changes']\n",
    "                                                                                +['days_in_waiting_list']\n",
    "                                                                                 +['adr']\n",
    "#                                                                                  +['required_car_parking_spaces']\n",
    "                                                                                 +['total_of_special_requests']\n",
    "                                                                                ])).fit()\n",
    "log_reg.aic\n",
    "log_reg.summary2()\n",
    "\n"
   ]
  },
  {
   "cell_type": "code",
   "execution_count": 101,
   "metadata": {},
   "outputs": [],
   "source": [
    "\n",
    "hotel_bookings['hotel'] = hotel_bookings['hotel'].astype('category')\n",
    "#hotel_bookings['arrival_date_month'] = hotel_bookings['arrival_date_month'].astype('category')\n",
    "\n",
    "hotel_bookings['hotel']  = hotel_bookings['hotel'].cat.codes\n",
    "\n",
    "\n"
   ]
  },
  {
   "cell_type": "code",
   "execution_count": 78,
   "metadata": {},
   "outputs": [
    {
     "data": {
      "text/plain": [
       "0           NaN\n",
       "1           NaN\n",
       "2           NaN\n",
       "3         304.0\n",
       "4         240.0\n",
       "          ...  \n",
       "119385    394.0\n",
       "119386      9.0\n",
       "119387      9.0\n",
       "119388     89.0\n",
       "119389      9.0\n",
       "Name: agent, Length: 119390, dtype: float64"
      ]
     },
     "execution_count": 78,
     "metadata": {},
     "output_type": "execute_result"
    }
   ],
   "source": [
    "#hotel_bookings['arrival_date_month'].cat.categories\n",
    "hotel_bookings['agent']"
   ]
  },
  {
   "cell_type": "code",
   "execution_count": 82,
   "metadata": {},
   "outputs": [
    {
     "name": "stdout",
     "output_type": "stream",
     "text": [
      "true\n"
     ]
    }
   ],
   "source": [
    "import math\n",
    "hotel_bookings['agent']\n",
    "x = math.nan\n",
    "if math.isnan(x) :\n",
    "    print(\"true\")\n",
    "else :\n",
    "    print(\"false\")\n",
    "\n",
    "hotel_bookings['agent']= hotel_bookings['agent'].apply(lambda x: False if math.isnan(x) else True)\n"
   ]
  },
  {
   "cell_type": "code",
   "execution_count": 83,
   "metadata": {},
   "outputs": [
    {
     "data": {
      "text/plain": [
       "0         False\n",
       "1         False\n",
       "2         False\n",
       "3          True\n",
       "4          True\n",
       "          ...  \n",
       "119385     True\n",
       "119386     True\n",
       "119387     True\n",
       "119388     True\n",
       "119389     True\n",
       "Name: agent, Length: 119390, dtype: bool"
      ]
     },
     "execution_count": 83,
     "metadata": {},
     "output_type": "execute_result"
    }
   ],
   "source": [
    "hotel_bookings['agent']"
   ]
  },
  {
   "cell_type": "code",
   "execution_count": 85,
   "metadata": {},
   "outputs": [],
   "source": [
    "hotel_bookings['company']= hotel_bookings['company'].apply(lambda x: False if math.isnan(x) else True)"
   ]
  },
  {
   "cell_type": "code",
   "execution_count": 86,
   "metadata": {},
   "outputs": [
    {
     "data": {
      "text/plain": [
       "0         False\n",
       "1         False\n",
       "2         False\n",
       "3         False\n",
       "4         False\n",
       "          ...  \n",
       "119385    False\n",
       "119386    False\n",
       "119387    False\n",
       "119388    False\n",
       "119389    False\n",
       "Name: company, Length: 119390, dtype: bool"
      ]
     },
     "execution_count": 86,
     "metadata": {},
     "output_type": "execute_result"
    }
   ],
   "source": [
    "hotel_bookings['company']"
   ]
  },
  {
   "cell_type": "code",
   "execution_count": 90,
   "metadata": {},
   "outputs": [
    {
     "data": {
      "text/plain": [
       "0         0\n",
       "1         0\n",
       "2         0\n",
       "3         1\n",
       "4         1\n",
       "         ..\n",
       "119385    1\n",
       "119386    1\n",
       "119387    1\n",
       "119388    1\n",
       "119389    1\n",
       "Name: agent, Length: 119390, dtype: int8"
      ]
     },
     "execution_count": 90,
     "metadata": {},
     "output_type": "execute_result"
    }
   ],
   "source": [
    "\n",
    "hotel_bookings['agent'] = hotel_bookings['agent'].astype('category').cat.codes\n",
    "hotel_bookings['agent']"
   ]
  },
  {
   "cell_type": "code",
   "execution_count": null,
   "metadata": {},
   "outputs": [],
   "source": []
  },
  {
   "cell_type": "code",
   "execution_count": 91,
   "metadata": {},
   "outputs": [
    {
     "data": {
      "text/plain": [
       "0         0\n",
       "1         0\n",
       "2         0\n",
       "3         0\n",
       "4         0\n",
       "         ..\n",
       "119385    0\n",
       "119386    0\n",
       "119387    0\n",
       "119388    0\n",
       "119389    0\n",
       "Name: company, Length: 119390, dtype: int8"
      ]
     },
     "execution_count": 91,
     "metadata": {},
     "output_type": "execute_result"
    }
   ],
   "source": [
    "hotel_bookings['company'] = hotel_bookings['company'].astype('category').cat.codes\n",
    "hotel_bookings['company']"
   ]
  },
  {
   "cell_type": "code",
   "execution_count": 93,
   "metadata": {},
   "outputs": [],
   "source": [
    "hotel_bookings['market_segment']= hotel_bookings['market_segment'].astype('category').cat.codes"
   ]
  },
  {
   "cell_type": "code",
   "execution_count": 94,
   "metadata": {},
   "outputs": [
    {
     "data": {
      "text/plain": [
       "0         3\n",
       "1         3\n",
       "2         3\n",
       "3         2\n",
       "4         6\n",
       "         ..\n",
       "119385    5\n",
       "119386    6\n",
       "119387    6\n",
       "119388    6\n",
       "119389    6\n",
       "Name: market_segment, Length: 119390, dtype: int8"
      ]
     },
     "execution_count": 94,
     "metadata": {},
     "output_type": "execute_result"
    }
   ],
   "source": [
    "hotel_bookings['market_segment']"
   ]
  },
  {
   "cell_type": "code",
   "execution_count": 96,
   "metadata": {},
   "outputs": [
    {
     "data": {
      "text/plain": [
       "0         0\n",
       "1         0\n",
       "2         0\n",
       "3         0\n",
       "4         0\n",
       "         ..\n",
       "119385    0\n",
       "119386    0\n",
       "119387    0\n",
       "119388    0\n",
       "119389    2\n",
       "Name: meal, Length: 119390, dtype: int8"
      ]
     },
     "execution_count": 96,
     "metadata": {},
     "output_type": "execute_result"
    }
   ],
   "source": [
    "hotel_bookings['meal']= hotel_bookings['meal'].astype('category').cat.codes\n",
    "hotel_bookings['meal']"
   ]
  },
  {
   "cell_type": "code",
   "execution_count": 100,
   "metadata": {},
   "outputs": [
    {
     "data": {
      "text/plain": [
       "0         Resort Hotel\n",
       "1         Resort Hotel\n",
       "2         Resort Hotel\n",
       "3         Resort Hotel\n",
       "4         Resort Hotel\n",
       "              ...     \n",
       "119385      City Hotel\n",
       "119386      City Hotel\n",
       "119387      City Hotel\n",
       "119388      City Hotel\n",
       "119389      City Hotel\n",
       "Name: hotel, Length: 119390, dtype: object"
      ]
     },
     "execution_count": 100,
     "metadata": {},
     "output_type": "execute_result"
    }
   ],
   "source": [
    "hotel_bookings['hotel']"
   ]
  },
  {
   "cell_type": "code",
   "execution_count": 106,
   "metadata": {},
   "outputs": [
    {
     "name": "stderr",
     "output_type": "stream",
     "text": [
      "/opt/anaconda3/lib/python3.8/site-packages/statsmodels/discrete/discrete_model.py:1799: RuntimeWarning: overflow encountered in exp\n",
      "  return 1/(1+np.exp(-X))\n"
     ]
    },
    {
     "name": "stdout",
     "output_type": "stream",
     "text": [
      "Optimization terminated successfully.\n",
      "         Current function value: 0.515341\n",
      "         Iterations 21\n"
     ]
    },
    {
     "data": {
      "text/html": [
       "<table class=\"simpletable\">\n",
       "<tr>\n",
       "        <td>Model:</td>              <td>Logit</td>      <td>Pseudo R-squared:</td>    <td>0.218</td>   \n",
       "</tr>\n",
       "<tr>\n",
       "  <td>Dependent Variable:</td>    <td>is_canceled</td>         <td>AIC:</td>        <td>123097.1409</td>\n",
       "</tr>\n",
       "<tr>\n",
       "         <td>Date:</td>        <td>2021-01-22 20:32</td>       <td>BIC:</td>        <td>123310.3242</td>\n",
       "</tr>\n",
       "<tr>\n",
       "   <td>No. Observations:</td>       <td>119390</td>       <td>Log-Likelihood:</td>    <td>-61527.</td>  \n",
       "</tr>\n",
       "<tr>\n",
       "       <td>Df Model:</td>             <td>21</td>            <td>LL-Null:</td>        <td>-78699.</td>  \n",
       "</tr>\n",
       "<tr>\n",
       "     <td>Df Residuals:</td>         <td>119368</td>        <td>LLR p-value:</td>      <td>0.0000</td>   \n",
       "</tr>\n",
       "<tr>\n",
       "      <td>Converged:</td>           <td>1.0000</td>           <td>Scale:</td>         <td>1.0000</td>   \n",
       "</tr>\n",
       "<tr>\n",
       "    <td>No. Iterations:</td>        <td>21.0000</td>             <td></td>               <td></td>      \n",
       "</tr>\n",
       "</table>\n",
       "<table class=\"simpletable\">\n",
       "<tr>\n",
       "                 <td></td>                  <th>Coef.</th>                    <th>Std.Err.</th>                      <th>z</th>     <th>P>|z|</th>                   <th>[0.025</th>                                      <th>0.975]</th>                  \n",
       "</tr>\n",
       "<tr>\n",
       "  <th>const</th>                          <td>-405.9815</td>                   <td>26.7050</td>                  <td>-15.2025</td> <td>0.0000</td>                  <td>-458.3222</td>                                   <td>-353.6407</td>                \n",
       "</tr>\n",
       "<tr>\n",
       "  <th>hotel</th>                           <td>-0.1933</td>                    <td>0.0163</td>                   <td>-11.8443</td> <td>0.0000</td>                   <td>-0.2253</td>                                     <td>-0.1613</td>                 \n",
       "</tr>\n",
       "<tr>\n",
       "  <th>arrival_date_year</th>               <td>0.2004</td>                     <td>0.0132</td>                    <td>15.1329</td> <td>0.0000</td>                   <td>0.1745</td>                                      <td>0.2264</td>                  \n",
       "</tr>\n",
       "<tr>\n",
       "  <th>lead_time</th>                       <td>0.0048</td>                     <td>0.0001</td>                    <td>63.4705</td> <td>0.0000</td>                   <td>0.0046</td>                                      <td>0.0049</td>                  \n",
       "</tr>\n",
       "<tr>\n",
       "  <th>agent</th>                           <td>-0.3244</td>                    <td>0.0306</td>                   <td>-10.6000</td> <td>0.0000</td>                   <td>-0.3844</td>                                     <td>-0.2644</td>                 \n",
       "</tr>\n",
       "<tr>\n",
       "  <th>company</th>                         <td>-0.3930</td>                    <td>0.0461</td>                    <td>-8.5222</td> <td>0.0000</td>                   <td>-0.4834</td>                                     <td>-0.3026</td>                 \n",
       "</tr>\n",
       "<tr>\n",
       "  <th>market_segment</th>                  <td>0.2311</td>                     <td>0.0081</td>                    <td>28.4364</td> <td>0.0000</td>                   <td>0.2151</td>                                      <td>0.2470</td>                  \n",
       "</tr>\n",
       "<tr>\n",
       "  <th>meal</th>                            <td>-0.0718</td>                    <td>0.0064</td>                   <td>-11.2117</td> <td>0.0000</td>                   <td>-0.0843</td>                                     <td>-0.0592</td>                 \n",
       "</tr>\n",
       "<tr>\n",
       "  <th>arrival_date_week_number</th>        <td>-0.0025</td>                    <td>0.0007</td>                    <td>-3.6849</td> <td>0.0002</td>                   <td>-0.0038</td>                                     <td>-0.0011</td>                 \n",
       "</tr>\n",
       "<tr>\n",
       "  <th>stays_in_weekend_nights</th>         <td>-0.0184</td>                    <td>0.0080</td>                    <td>-2.2946</td> <td>0.0218</td>                   <td>-0.0341</td>                                     <td>-0.0027</td>                 \n",
       "</tr>\n",
       "<tr>\n",
       "  <th>arrival_date_day_of_month</th>       <td>-0.0005</td>                    <td>0.0008</td>                    <td>-0.6522</td> <td>0.5142</td>                   <td>-0.0021</td>                                     <td>0.0010</td>                  \n",
       "</tr>\n",
       "<tr>\n",
       "  <th>stays_in_week_nights</th>            <td>0.0191</td>                     <td>0.0043</td>                    <td>4.4173</td>  <td>0.0000</td>                   <td>0.0106</td>                                      <td>0.0276</td>                  \n",
       "</tr>\n",
       "<tr>\n",
       "  <th>adults</th>                          <td>0.0524</td>                     <td>0.0135</td>                    <td>3.8724</td>  <td>0.0001</td>                   <td>0.0259</td>                                      <td>0.0789</td>                  \n",
       "</tr>\n",
       "<tr>\n",
       "  <th>babies</th>                          <td>0.2517</td>                     <td>0.0834</td>                    <td>3.0176</td>  <td>0.0025</td>                   <td>0.0882</td>                                      <td>0.4152</td>                  \n",
       "</tr>\n",
       "<tr>\n",
       "  <th>is_repeated_guest</th>               <td>-0.9790</td>                    <td>0.0850</td>                   <td>-11.5196</td> <td>0.0000</td>                   <td>-1.1455</td>                                     <td>-0.8124</td>                 \n",
       "</tr>\n",
       "<tr>\n",
       "  <th>previous_cancellations</th>          <td>3.1453</td>                     <td>0.0569</td>                    <td>55.2348</td> <td>0.0000</td>                   <td>3.0337</td>                                      <td>3.2569</td>                  \n",
       "</tr>\n",
       "<tr>\n",
       "  <th>previous_bookings_not_canceled</th>  <td>-0.5346</td>                    <td>0.0255</td>                   <td>-20.9384</td> <td>0.0000</td>                   <td>-0.5846</td>                                     <td>-0.4845</td>                 \n",
       "</tr>\n",
       "<tr>\n",
       "  <th>booking_changes</th>                 <td>-0.6241</td>                    <td>0.0159</td>                   <td>-39.2538</td> <td>0.0000</td>                   <td>-0.6552</td>                                     <td>-0.5929</td>                 \n",
       "</tr>\n",
       "<tr>\n",
       "  <th>days_in_waiting_list</th>            <td>-0.0009</td>                    <td>0.0004</td>                    <td>-2.3257</td> <td>0.0200</td>                   <td>-0.0016</td>                                     <td>-0.0001</td>                 \n",
       "</tr>\n",
       "<tr>\n",
       "  <th>adr</th>                             <td>0.0054</td>                     <td>0.0002</td>                    <td>31.9829</td> <td>0.0000</td>                   <td>0.0051</td>                                      <td>0.0057</td>                  \n",
       "</tr>\n",
       "<tr>\n",
       "  <th>required_car_parking_spaces</th>    <td>-202.4297</td> <td>4836091553234858735957675809741733888.0000</td>  <td>-0.0000</td> <td>1.0000</td> <td>-9478565270278692757729177829858344960.0000</td> <td>9478565270278692757729177829858344960.0000</td>\n",
       "</tr>\n",
       "<tr>\n",
       "  <th>total_of_special_requests</th>       <td>-0.8208</td>                    <td>0.0110</td>                   <td>-74.5100</td> <td>0.0000</td>                   <td>-0.8424</td>                                     <td>-0.7992</td>                 \n",
       "</tr>\n",
       "</table>"
      ],
      "text/plain": [
       "<class 'statsmodels.iolib.summary2.Summary'>\n",
       "\"\"\"\n",
       "                                                                                      Results: Logit\n",
       "==========================================================================================================================================================================================\n",
       "Model:                                                      Logit                                                    Pseudo R-squared:                                         0.218      \n",
       "Dependent Variable:                                         is_canceled                                              AIC:                                                      123097.1409\n",
       "Date:                                                       2021-01-22 20:32                                         BIC:                                                      123310.3242\n",
       "No. Observations:                                           119390                                                   Log-Likelihood:                                           -61527.    \n",
       "Df Model:                                                   21                                                       LL-Null:                                                  -78699.    \n",
       "Df Residuals:                                               119368                                                   LLR p-value:                                              0.0000     \n",
       "Converged:                                                  1.0000                                                   Scale:                                                    1.0000     \n",
       "No. Iterations:                                             21.0000                                                                                                                       \n",
       "------------------------------------------------------------------------------------------------------------------------------------------------------------------------------------------\n",
       "                                 Coef.                    Std.Err.                     z     P>|z|                     [0.025                                     0.975]                  \n",
       "------------------------------------------------------------------------------------------------------------------------------------------------------------------------------------------\n",
       "const                          -405.9815                                    26.7050 -15.2025 0.0000                                   -458.3222                                  -353.6407\n",
       "hotel                            -0.1933                                     0.0163 -11.8443 0.0000                                     -0.2253                                    -0.1613\n",
       "arrival_date_year                 0.2004                                     0.0132  15.1329 0.0000                                      0.1745                                     0.2264\n",
       "lead_time                         0.0048                                     0.0001  63.4705 0.0000                                      0.0046                                     0.0049\n",
       "agent                            -0.3244                                     0.0306 -10.6000 0.0000                                     -0.3844                                    -0.2644\n",
       "company                          -0.3930                                     0.0461  -8.5222 0.0000                                     -0.4834                                    -0.3026\n",
       "market_segment                    0.2311                                     0.0081  28.4364 0.0000                                      0.2151                                     0.2470\n",
       "meal                             -0.0718                                     0.0064 -11.2117 0.0000                                     -0.0843                                    -0.0592\n",
       "arrival_date_week_number         -0.0025                                     0.0007  -3.6849 0.0002                                     -0.0038                                    -0.0011\n",
       "stays_in_weekend_nights          -0.0184                                     0.0080  -2.2946 0.0218                                     -0.0341                                    -0.0027\n",
       "arrival_date_day_of_month        -0.0005                                     0.0008  -0.6522 0.5142                                     -0.0021                                     0.0010\n",
       "stays_in_week_nights              0.0191                                     0.0043   4.4173 0.0000                                      0.0106                                     0.0276\n",
       "adults                            0.0524                                     0.0135   3.8724 0.0001                                      0.0259                                     0.0789\n",
       "babies                            0.2517                                     0.0834   3.0176 0.0025                                      0.0882                                     0.4152\n",
       "is_repeated_guest                -0.9790                                     0.0850 -11.5196 0.0000                                     -1.1455                                    -0.8124\n",
       "previous_cancellations            3.1453                                     0.0569  55.2348 0.0000                                      3.0337                                     3.2569\n",
       "previous_bookings_not_canceled   -0.5346                                     0.0255 -20.9384 0.0000                                     -0.5846                                    -0.4845\n",
       "booking_changes                  -0.6241                                     0.0159 -39.2538 0.0000                                     -0.6552                                    -0.5929\n",
       "days_in_waiting_list             -0.0009                                     0.0004  -2.3257 0.0200                                     -0.0016                                    -0.0001\n",
       "adr                               0.0054                                     0.0002  31.9829 0.0000                                      0.0051                                     0.0057\n",
       "required_car_parking_spaces    -202.4297 4836091553234858735957675809741733888.0000  -0.0000 1.0000 -9478565270278692757729177829858344960.0000 9478565270278692757729177829858344960.0000\n",
       "total_of_special_requests        -0.8208                                     0.0110 -74.5100 0.0000                                     -0.8424                                    -0.7992\n",
       "==========================================================================================================================================================================================\n",
       "\n",
       "\"\"\""
      ]
     },
     "execution_count": 106,
     "metadata": {},
     "output_type": "execute_result"
    }
   ],
   "source": [
    "\n",
    "log_reg = sm.Logit(hotel_bookings['is_canceled'], sm.add_constant(hotel_bookings[['hotel']\n",
    "                                                                                 +['arrival_date_year']\n",
    "                                                                                 +['lead_time']\n",
    "                                                                                 +['agent']\n",
    "                                                                                 +['company']\n",
    "                                                                                 +['market_segment']\n",
    "                                                                                 +['meal']\n",
    "                                                                                 +['arrival_date_week_number']\n",
    "                                                                                 +['stays_in_weekend_nights']\n",
    "                                                                                 +['arrival_date_day_of_month']\n",
    "                                                                                 +['stays_in_week_nights']\n",
    "                                                                                 +['adults']+['babies']\n",
    "                                                                                 +['is_repeated_guest']\n",
    "                                                                                 +['previous_cancellations']\n",
    "                                                                                 +['previous_bookings_not_canceled']\n",
    "                                                                                 +['booking_changes']\n",
    "                                                                                +['days_in_waiting_list']\n",
    "                                                                                 +['adr']\n",
    "                                                                                 +['required_car_parking_spaces']\n",
    "                                                                                 +['total_of_special_requests']\n",
    "                                                                                ])).fit()\n",
    "\n",
    "log_reg.summary2()\n",
    "#hotel_bookings.info()\n",
    "\n",
    "\n"
   ]
  },
  {
   "cell_type": "code",
   "execution_count": 109,
   "metadata": {
    "scrolled": true
   },
   "outputs": [
    {
     "ename": "SyntaxError",
     "evalue": "invalid syntax (<ipython-input-109-edae5be6c5f3>, line 1)",
     "output_type": "error",
     "traceback": [
      "\u001b[0;36m  File \u001b[0;32m\"<ipython-input-109-edae5be6c5f3>\"\u001b[0;36m, line \u001b[0;32m1\u001b[0m\n\u001b[0;31m    https://jakevdp.github.io/PythonDataScienceHandbook/05.09-principal-component-analysis.html\u001b[0m\n\u001b[0m          ^\u001b[0m\n\u001b[0;31mSyntaxError\u001b[0m\u001b[0;31m:\u001b[0m invalid syntax\n"
     ]
    }
   ],
   "source": []
  }
 ],
 "metadata": {
  "kernelspec": {
   "display_name": "Python 3",
   "language": "python",
   "name": "python3"
  },
  "language_info": {
   "codemirror_mode": {
    "name": "ipython",
    "version": 3
   },
   "file_extension": ".py",
   "mimetype": "text/x-python",
   "name": "python",
   "nbconvert_exporter": "python",
   "pygments_lexer": "ipython3",
   "version": "3.8.5"
  }
 },
 "nbformat": 4,
 "nbformat_minor": 4
}
